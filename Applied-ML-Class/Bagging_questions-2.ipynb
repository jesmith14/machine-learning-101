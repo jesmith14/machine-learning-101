{
 "cells": [
  {
   "cell_type": "markdown",
   "metadata": {},
   "source": [
    "### Bagging\n",
    "\n",
    "\n",
    "In this notebook we will again revisit our `diabetes.csv` dataset. Early in the semester, we used this dataset to learn about KNN. Now will see how to improve our predictions with bagging. \n",
    "\n",
    "As always, this notebook is to help you gain a better understanding of machine learning methods. You are not expected to complete it perfectly, just to pay attention, give it a shot, get your hands a little dirty, improve your understanding of the material and turn in your work as a pdf or html at the end of class for participation points. "
   ]
  },
  {
   "cell_type": "code",
   "execution_count": 22,
   "metadata": {},
   "outputs": [],
   "source": [
    "# import the needed libraries\n",
    "\n",
    "import numpy as np\n",
    "import pandas as pd\n",
    "import sklearn\n",
    "\n",
    "# configure matplotlib to show plots in the notebook itself\n",
    "%matplotlib inline "
   ]
  },
  {
   "cell_type": "markdown",
   "metadata": {},
   "source": [
    "### Data\n",
    "\n",
    "In this notebook, we will be using the [Pima Indians Diabetes Dataset](https://www.kaggle.com/uciml/pima-indians-diabetes-database). The data consists of patient records with a number of features, along with a binary label indicating if the patient has diabetes or does not have diabetes. Note that \"all patients here are females at least 21 years old of Pima Indian heritage.\" Note that the `Outcome` variable records if a patient does or does not have diabetes."
   ]
  },
  {
   "cell_type": "code",
   "execution_count": 23,
   "metadata": {},
   "outputs": [],
   "source": [
    "df = pd.read_csv('diabetes-3.csv') #Load the dataset\n",
    "\n",
    "# Let's go ahead and start with a two-dimensional dataset to build intuitions\n",
    "low_dim = df[['Glucose', 'BloodPressure', \"Outcome\"]]"
   ]
  },
  {
   "cell_type": "code",
   "execution_count": 24,
   "metadata": {},
   "outputs": [
    {
     "data": {
      "text/plain": [
       "<AxesSubplot:title={'center':'BloodPressure x Glucose'}, xlabel='Glucose', ylabel='BloodPressure'>"
      ]
     },
     "execution_count": 24,
     "metadata": {},
     "output_type": "execute_result"
    },
    {
     "data": {
      "image/png": "[encoded data removed]",
      "text/plain": [
       "<Figure size 432x288 with 2 Axes>"
      ]
     },
     "metadata": {
      "needs_background": "light"
     },
     "output_type": "display_data"
    }
   ],
   "source": [
    "from sklearn.neighbors import KNeighborsClassifier\n",
    "\n",
    "# Let's divide our dataset into training and test \n",
    "train = low_dim[0:700]\n",
    "test = low_dim[700:]\n",
    "\n",
    "#this plot shows the hard labels for each point\n",
    "#hard labels: when you are taking a point and assigning it to\n",
    "#exactly one of k groups, it is a HARD label\n",
    "#it is mutually exclusive categories\n",
    "#by contrast, there are SOFT assignments, which can assign\n",
    "#probabilities of an instance to a class, rather than fully \n",
    "#one class or another\n",
    "#this is why SOFTmax is 'soft' - because it is a probability!\n",
    "test.plot.scatter(x='Glucose', y='BloodPressure', c=\"Outcome\", colormap='viridis', title=\"BloodPressure x Glucose\")"
   ]
  },
  {
   "cell_type": "markdown",
   "metadata": {},
   "source": [
    "### Step 1 \n",
    "\n",
    "Train a KNN classifier on the training set. Set `K`=2. Then test your classifier on the test set. How accurate is your classifier on the test set?"
   ]
  },
  {
   "cell_type": "code",
   "execution_count": 25,
   "metadata": {},
   "outputs": [],
   "source": [
    "#Sometimes it is normal to use to_numpy()\n",
    "#when using these functions (fit and score)\n",
    "#but it looks like it works below with using numpy\n",
    "#though the interpreter does want the labels to be a series\n",
    "#rather than a dataframe\n",
    "#this is just for reference below\n",
    "X_test = test[[\"Glucose\",\"BloodPressure\"]].to_numpy()\n",
    "Y_test = test[\"Outcome\"].to_numpy()"
   ]
  },
  {
   "cell_type": "code",
   "execution_count": 26,
   "metadata": {},
   "outputs": [
    {
     "data": {
      "text/plain": [
       "0.6567164179104478"
      ]
     },
     "execution_count": 26,
     "metadata": {},
     "output_type": "execute_result"
    }
   ],
   "source": [
    "from sklearn.neighbors import KNeighborsClassifier\n",
    "\n",
    "# Type your code here\n",
    "knn = KNeighborsClassifier(n_neighbors=2)\n",
    "knn.fit(train[[\"Glucose\", \"BloodPressure\"]], train[\"Outcome\"])\n",
    "knn.score(test[[\"Glucose\", \"BloodPressure\"]], test[\"Outcome\"])\n",
    "# Answer"
   ]
  },
  {
   "cell_type": "markdown",
   "metadata": {},
   "source": [
    "### Step 2\n",
    "\n",
    "Now we are going to try implementing bagging. The basic procedure is \n",
    "\n",
    "1. Sample $N$ datapoints with replacement from the training set, where $N$ is the size of the training set.\n",
    "2. Train a classifier on the $N$ datapoints\n",
    "3. Make predictions for the test set\n",
    "4. Average your predictions to make an aggregated prediction"
   ]
  },
  {
   "cell_type": "code",
   "execution_count": 32,
   "metadata": {},
   "outputs": [],
   "source": [
    "def sample_with_replacement(training_set):\n",
    "    #https://pandas.pydata.org/pandas-docs/stable/reference/api/pandas.DataFrame.sample.html\n",
    "    '''\n",
    "    Implement your code here\n",
    "    Your function should return N instances from the training set, \n",
    "    selected at random with replacement\n",
    "    '''\n",
    "    #make sure that replace=True so that you don't just keep\n",
    "    #sampling the entire dataset the same way over and over again\n",
    "    #then if you replace, you'll get different numbers in your sample\n",
    "    #because you could be drawing the same instances mulptiple times in one sample!\n",
    "    return train.sample(n=len(training_set), replace=True)\n",
    "\n",
    "def predict(knn_clf, test_set):\n",
    "    '''Return a vector of predictions on the test set with your knn_clf'''\n",
    "    return knn_clf.predict(X=test_set[[\"Glucose\", \"BloodPressure\"]].to_numpy())"
   ]
  },
  {
   "cell_type": "code",
   "execution_count": 28,
   "metadata": {},
   "outputs": [
    {
     "data": {
      "text/plain": [
       "119.95857142857143"
      ]
     },
     "execution_count": 28,
     "metadata": {},
     "output_type": "execute_result"
    }
   ],
   "source": [
    "#sanity checking so that we know we are replacing for the sample\n",
    "#if we are replacing, then this mean will be different every time\n",
    "#we run this cell\n",
    "sample = sample_with_replacement(train)\n",
    "np.mean(sample[\"Glucose\"])"
   ]
  },
  {
   "cell_type": "code",
   "execution_count": 29,
   "metadata": {},
   "outputs": [
    {
     "name": "stdout",
     "output_type": "stream",
     "text": [
      "(4,)\n",
      "(4, 1)\n"
     ]
    },
    {
     "data": {
      "text/plain": [
       "(4, 1)"
      ]
     },
     "execution_count": 29,
     "metadata": {},
     "output_type": "execute_result"
    }
   ],
   "source": [
    "y = np.ones(4)\n",
    "print(y.shape)\n",
    "yprime = np.ones((4,1))\n",
    "print(yprime.shape)\n",
    "y.reshape(-1,1).shape"
   ]
  },
  {
   "cell_type": "code",
   "execution_count": 34,
   "metadata": {},
   "outputs": [],
   "source": [
    "# implement bagging \n",
    "\n",
    "all_predictions = []\n",
    "\n",
    "for i in range(1000):  \n",
    "    \n",
    "    # sample from the training set\n",
    "    train_sampled = sample_with_replacement(training_set=train)\n",
    "    # fit a KNN classifier on the training set\n",
    "    knn = KNeighborsClassifier(n_neighbors=2)\n",
    "    \n",
    "    #fitting the classifier to the currently sampled data\n",
    "    knn.fit(train_sampled[[\"Glucose\", \"BloodPressure\"]], train_sampled[\"Outcome\"])\n",
    "\n",
    "    # make predictions on the test set\n",
    "    preds = predict(knn_clf=knn, test_set=test)\n",
    "    #still figuring this out\n",
    "    all_predictions.append(preds)\n",
    "\n"
   ]
  },
  {
   "cell_type": "code",
   "execution_count": 36,
   "metadata": {},
   "outputs": [
    {
     "data": {
      "text/plain": [
       "0.6865671641791045"
      ]
     },
     "execution_count": 36,
     "metadata": {},
     "output_type": "execute_result"
    }
   ],
   "source": [
    "# Aggregate your predictions by averaging them\n",
    "bootstrap_pred = np.mean(np.stack(all_predictions),axis=0) > .5\n",
    "bootstrap_pred = bootstrap_pred.astype(int)\n",
    "\n",
    "\n",
    "#Yay!\n",
    "#reducing the variance of the classifier by resampling a bunch\n",
    "#doing bootstrapping increases the accuracy :) \n",
    "np.mean(bootstrap_pred == test[\"Outcome\"].to_numpy())"
   ]
  },
  {
   "cell_type": "code",
   "execution_count": 1,
   "metadata": {},
   "outputs": [],
   "source": [
    "# Evaluate your predictions. How accurate are bootstrap_pred?"
   ]
  },
  {
   "cell_type": "markdown",
   "metadata": {},
   "source": [
    "### Observation\n",
    "\n",
    "Try creating a scatter plot showing blood pressure by glucose, using color to indicate a hard 1/0 label for if the patient has diabetes. Then try making a similar scatter plot showing \"soft\" predictions for each data point, based on the mean aggregated prediction. (Recall that in ML \"hard\" predictions are categorical, and \"soft\" predictions are continuous and often represent probabilities.) What do you observe?"
   ]
  },
  {
   "cell_type": "markdown",
   "metadata": {},
   "source": [
    "[Type your answer here]"
   ]
  },
  {
   "cell_type": "code",
   "execution_count": null,
   "metadata": {},
   "outputs": [],
   "source": [
    "#these are our SOFT labels for the test set\n",
    "test['soft_y'] = #getting the probabilities of the labels instead of \n",
    "#the hard labels - couldn't get this to work yet\n",
    "\n",
    "test.plot.scatter(\n",
    "x='Glucose',y='BloodPressure',c='soft_y',xlabel='r', colormap='viridis',\n",
    "title=\"BloodPressure x Glucose\")"
   ]
  },
  {
   "cell_type": "code",
   "execution_count": 37,
   "metadata": {},
   "outputs": [
    {
     "data": {
      "text/plain": [
       "<AxesSubplot:title={'center':'BloodPressure x Glucose'}, xlabel='r', ylabel='BloodPressure'>"
      ]
     },
     "execution_count": 37,
     "metadata": {},
     "output_type": "execute_result"
    },
    {
     "data": {
      "image/png": "[encoded data removed]",
      "text/plain": [
       "<Figure size 432x288 with 2 Axes>"
      ]
     },
     "metadata": {
      "needs_background": "light"
     },
     "output_type": "display_data"
    }
   ],
   "source": [
    "#these are our HARD labels for the test set\n",
    "\n",
    "test.plot.scatter(\n",
    "x='Glucose',y='BloodPressure',c='Outcome',xlabel='r', colormap='viridis',\n",
    "title=\"BloodPressure x Glucose\")"
   ]
  },
  {
   "cell_type": "code",
   "execution_count": null,
   "metadata": {},
   "outputs": [],
   "source": []
  }
 ],
 "metadata": {
  "kernelspec": {
   "display_name": "Python 3",
   "language": "python",
   "name": "python3"
  },
  "language_info": {
   "codemirror_mode": {
    "name": "ipython",
    "version": 3
   },
   "file_extension": ".py",
   "mimetype": "text/x-python",
   "name": "python",
   "nbconvert_exporter": "python",
   "pygments_lexer": "ipython3",
   "version": "3.8.8"
  }
 },
 "nbformat": 4,
 "nbformat_minor": 2
}
