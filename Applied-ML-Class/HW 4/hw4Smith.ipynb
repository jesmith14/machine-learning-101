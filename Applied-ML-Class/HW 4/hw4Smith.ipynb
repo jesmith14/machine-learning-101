{
 "cells": [
  {
   "cell_type": "markdown",
   "metadata": {},
   "source": [
    "# INFO-4604/5604 HW4\n",
    "\n",
    "### Solution by: Jessie J. Smith\n",
    "\n",
    "#### If you worked with a partner, list the partner here"
   ]
  },
  {
   "cell_type": "markdown",
   "metadata": {},
   "source": [
    "In this assignment, you will classify the *sentiment* (positive, negative, or neutral) of hotel reviews posted on Yelp. See Chapter 8 of the textbook for more explanation of sentiment classification. The main goal of this assignment is to get practice with feature engineering, feature extraction, and feature selection."
   ]
  },
  {
   "cell_type": "markdown",
   "metadata": {},
   "source": [
    "### What to hand in\n",
    "\n",
    "You will submit the assignment on Canvas. Submit a HTML or PDF version of your notebook named `hw4lastname.pdf` or  `hw4lastname.html`, where lastname is replaced with your last name.\n",
    "\n",
    "When writing code in this notebook, you are encouraged to create additional cells in whatever way makes the presentation more organized and easy to follow. You are allowed to import additional Python libraries.\n",
    "\n",
    "### Submission policies\n",
    "\n",
    "- **Collaboration:** You are allowed to work with a partner. You are still expected to write up your own solution. Each individual must turn in their own submission, and list your collaborator after your name.\n",
    "- **Late submissions:** We allow each student to use up to 5 late days over the semester. You have late days, not late hours. This means that if your submission is late by any amount of time past the deadline, then this will use up a late day. If it is late by any amount beyond 24 hours past the deadline, then this will use a second late, and so on. Once you have used up all late days, late assignments will be given at most 80% credit after one day and 60% credit after two days."
   ]
  },
  {
   "cell_type": "markdown",
   "metadata": {},
   "source": [
    "## Annotated data\n",
    "\n",
    "The dataset contains 1000 reviews of hotels downloaded from Yelp. Sentiment labels could be one of three classes (positive, negative, neutral). Each review is labeled as:\n",
    "\n",
    "- **1:** The review expresses a *positive* opinion toward the hotel.\n",
    "- **0:** The review expresses a mixed or neutral opinion toward the hotel.\n",
    "- **-1:** The review expresses a *negative* opinion toward the hotel.\n",
    "\n",
    "In this assignment, you will build classifiers to predict these three classes. The dataset has been prepared for you. A random subset (approximately 10% of the reviews) was selected as test data, while the rest will be used for training. Run the code below to download and extract the data."
   ]
  },
  {
   "cell_type": "code",
   "execution_count": 3,
   "metadata": {},
   "outputs": [],
   "source": [
    "import pandas as pd\n",
    "import numpy as np\n",
    "\n",
    "df = pd.read_csv('yelp_hotels1000.csv', \n",
    "                 header=None, encoding='ISO-8859-1')\n",
    "\n",
    "df_train = df.loc[df[1] == 'train']\n",
    "df_test = df.loc[df[1] == 'test']\n",
    "\n",
    "Y_train = df_train.iloc[0:, 2].values\n",
    "text_train = df_train.iloc[0:, 3].values\n",
    "\n",
    "Y_test = df_test.iloc[0:, 2].values\n",
    "text_test = df_test.iloc[0:, 3].values"
   ]
  },
  {
   "cell_type": "markdown",
   "metadata": {},
   "source": [
    "## Setting up the classifier\n",
    "\n",
    "### Tokenization and feature extraction\n",
    "\n",
    "The first step is to convert the raw text into feature vectors. In Ch. 8 of the book, and in HW2, the class [`CountVectorizer`](http://scikit-learn.org/stable/modules/generated/sklearn.feature_extraction.text.CountVectorizer.html) is presented as a way to convert text strings into `sklearn` feature vectors. This class can automatically perform tokenization (doing preprocessing steps we talked about in class, including lowercasing and stripping punctuation). However, for this assignment, we aren't going to use `CountVectorizer`, though it is useful to know about. We will instead write our own code to do tokenization and feature extraction. This will allow us to modify the features, which you will need to do later, plus it will let you see how feature extraction is done.\n",
    "\n",
    "The code below defines our feature extraction function, `features`. It takes a text string and it outputs a Python dictionary where the keys are the feature names and the values are the feature values. This is a _sparse_ representation, meaning it only outputs features with nonzero value.\n",
    "\n",
    "By default, the features extracted by this function are n-gram counts. The keyword argument `ngram_range` specifies the length of n-grams to extract. This argument should be a pair of integers, where the first integer is the lower end of the length to be extracted and the second integer is the upper end. For example, `ngram_range=(1,3)` will extract 1-grams, 2-grams, and 3-grams, while `ngram_range=(2,2)` will extract only 2-grams.\n",
    "\n",
    "The function performs two initial preprocessing steps: making the text lowercase (so different capitalizations of words will map to the same feature), and removing consecutive characters that are repeated more than twice (e.g., \"woooow\" and \"wooooooooow\" will both map to simply \"woow\" rather than being counted as separate words).\n",
    "\n",
    "The function tokenizes words as follows. First, non-alphanumeric characters are replaced with whitespace, then strings separated by whitespace are treated as tokens. Python's `split` function converts a string into a list of tokens that were separated by whitespace. The list of tokens is passed to the `ngrams` function, defined below, which returns a list of all n-grams of length `n` contained in the list. Finally, the function also pulls out tokens containing anything _but_ alphanumeric characters. This will capture punctuation marks and emojis, which may also be useful for classification. These are treated as unigram features rather than longer sequences.\n",
    "\n",
    "For now, simply run the code below. However, you'll need to modify this code later, so you need to understand what it is doing."
   ]
  },
  {
   "cell_type": "code",
   "execution_count": 2,
   "metadata": {},
   "outputs": [],
   "source": [
    "import re\n",
    "from collections import Counter\n",
    "\n",
    "def ngrams(tokens, n):\n",
    "    output = []\n",
    "    for i in range(n-1, len(tokens)):\n",
    "        ngram = ' '.join(tokens[i-n+1:i+1])\n",
    "        output.append(ngram)\n",
    "    return output\n",
    "\n",
    "def features(text, ngram_range=(1,1)):\n",
    "    text = text.lower()      # make the string lowercase\n",
    "    text = re.sub(r'(.)\\1+', r'\\1\\1', text)     # remove consecutive characters that are repeated more than twice\n",
    "    \n",
    "    features_in_text = []   # running list of all features in this instance (can be repeated)\n",
    "    \n",
    "    # treat alphanumeric characters as word tokens (removing anything else),\n",
    "    # and extract all n-grams of length n specified by ngram_range\n",
    "    \n",
    "    text_alphanum = re.sub('[^a-z0-9]', ' ', text)\n",
    "    for n in range(ngram_range[0], ngram_range[1]+1):\n",
    "        features_in_text += ngrams(text_alphanum.split(), n)\n",
    "    \n",
    "    # now treat punctuation as word tokens, and get their counts (only unigrams)\n",
    "    \n",
    "    text_punc = re.sub('[a-z0-9]', ' ', text)\n",
    "    features_in_text += ngrams(text_punc.split(), 1)\n",
    "    \n",
    "    # 'Counter' converts a list into a dictionary whose keys are the list elements \n",
    "    #  and the values are the number of times each element appeared in the list\n",
    "    \n",
    "    return Counter(features_in_text)\n"
   ]
  },
  {
   "cell_type": "markdown",
   "metadata": {},
   "source": [
    "To get a better understanding of what the `features` function is returning, see what happens on the example text when you run the code below. The `ngram_range` is set to `(1,2)` which means it will extract both 1-grams and 2-grams. You should notice that it extracts all words (separated by punctuation) and two-word phrases, with counts based on how often they appear (e.g., \"`a sentence`\" is a 2-gram that appears twice). Also note that punctuation is also counted (but only as 1-grams, not 2-grams), and notice that \"`!!`\" has a count of 2 because \"!!!\" was rewritten as \"!!\".\n",
    "\n",
    "You may find it helpful to change the text and/or the n-gram range to see what features are extracted."
   ]
  },
  {
   "cell_type": "code",
   "execution_count": 3,
   "metadata": {},
   "outputs": [
    {
     "name": "stdout",
     "output_type": "stream",
     "text": [
      "Counter({'a': 2, 'sentence': 2, 'it': 2, 's': 2, 'a sentence': 2, 'it s': 2, '!!': 2, ',': 2, \"'\": 2, 'this': 1, 'is': 1, 'an': 1, 'example': 1, 'of': 1, 'to': 1, 'tokenize': 1, 'actually': 1, 'more': 1, 'than': 1, 'two': 1, 'sentences': 1, 'this is': 1, 'is an': 1, 'an example': 1, 'example of': 1, 'of a': 1, 'sentence to': 1, 'to tokenize': 1, 'tokenize actually': 1, 'actually it': 1, 's more': 1, 'more than': 1, 'than a': 1, 'sentence it': 1, 's two': 1, 'two sentences': 1})\n"
     ]
    }
   ],
   "source": [
    "text = \"This is an example of a sentence to tokenize!! Actually, it's more than a sentence, it's two sentences!!!\"\n",
    "\n",
    "print(features(text, ngram_range=(1,2)))"
   ]
  },
  {
   "cell_type": "markdown",
   "metadata": {},
   "source": [
    "Finally, we need to extract features from all of the training instances and convert them into a feature vector representation to be used by `sklearn`. The code below takes the output of the `features` function (with only 1-grams for this example, though you will change this later), then maps all the feature strings into integers, then defines `X_train` as a sparse array that encodes the values of each feature in each instance. Like in HW2, the [`DictVectorizer`](http://scikit-learn.org/stable/modules/generated/sklearn.feature_extraction.DictVectorizer.html) is used to do this conversion. "
   ]
  },
  {
   "cell_type": "code",
   "execution_count": 4,
   "metadata": {},
   "outputs": [],
   "source": [
    "from sklearn.feature_extraction import DictVectorizer\n",
    "\n",
    "vect = DictVectorizer()\n",
    "X_train = vect.fit_transform(features(d, ngram_range=(1,3)) for d in text_train)"
   ]
  },
  {
   "cell_type": "markdown",
   "metadata": {},
   "source": [
    "### Classifier and hyperparameter tuning\n",
    "\n",
    "In this assignment, we will use multinomial logistic regression as our classifier. Recall that logistic regression outputs probabilities, and the multinomial version can handle more than two classes. Mulinomial logistic regression is also called a \"maximum entropy\" or \"MaxEnt\" classifier.\n",
    "\n",
    "We will use `sklearn`'s [`LogisticRegression`](http://scikit-learn.org/stable/modules/generated/sklearn.linear_model.LogisticRegression.html) class, setting the `multi_class` argument to `'multinomial'` which tells it to use the multinomial version (otherwise it defaults to binary logistic regression with a one-vs-rest scheme for multiclass data).\n",
    "\n",
    "The `LogisticRegression` class uses the argument `C` to denote the regularization strength (same as in the `SVC` class you used in HW3). It is important to adjust this hyperparameter to get good performance.\n",
    "\n",
    "`sklearn` has a class, [`GridSearchCV`](http://scikit-learn.org/stable/modules/generated/sklearn.model_selection.GridSearchCV.html) for tuning a classifier with cross-validation. When you construct a `GridSearchCV` object, you supply the set of parameters and their possible values that you would like to adjust. During training, it will perform cross-validation with every combination of parameter values, then train a final classifier using the best-performing settings. In the code, only a small number of values are listed, because it would be too slow to try many combinations. This code might take a few minutes to run on your machine."
   ]
  },
  {
   "cell_type": "code",
   "execution_count": 5,
   "metadata": {},
   "outputs": [
    {
     "name": "stdout",
     "output_type": "stream",
     "text": [
      "{'cv': 2, 'error_score': nan, 'estimator__C': 1.0, 'estimator__class_weight': None, 'estimator__dual': False, 'estimator__fit_intercept': True, 'estimator__intercept_scaling': 1, 'estimator__l1_ratio': None, 'estimator__max_iter': 500, 'estimator__multi_class': 'multinomial', 'estimator__n_jobs': None, 'estimator__penalty': 'l2', 'estimator__random_state': 123, 'estimator__solver': 'lbfgs', 'estimator__tol': 0.01, 'estimator__verbose': 0, 'estimator__warm_start': False, 'estimator': LogisticRegression(max_iter=500, multi_class='multinomial', random_state=123,\n",
      "                   tol=0.01), 'n_jobs': None, 'param_grid': [{'C': [0.01, 0.1, 1.0]}], 'pre_dispatch': '2*n_jobs', 'refit': True, 'return_train_score': False, 'scoring': None, 'verbose': 0}\n",
      "Best parameter settings: {'C': 0.1}\n",
      "Validation accuracy: 0.720225\n"
     ]
    }
   ],
   "source": [
    "from sklearn.linear_model import LogisticRegression\n",
    "from sklearn.model_selection import GridSearchCV, cross_val_predict\n",
    "from sklearn.metrics import accuracy_score\n",
    "\n",
    "# this defines the classifier we will use -- don't change this variable\n",
    "\n",
    "base_classifier = LogisticRegression(multi_class='multinomial', solver='lbfgs', tol=1e-2, max_iter=500, random_state=123)\n",
    "\n",
    "# these are the C values we will compare -- don't change this variable\n",
    "\n",
    "params = [{'C': [0.01, 0.1, 1.0]}]\n",
    "\n",
    "# this performs 2-fold cross-validation with the above classifier and parameter options\n",
    "\n",
    "gs_classifier = GridSearchCV(base_classifier, params, cv=2)\n",
    "gs_classifier.fit(X_train, Y_train)\n",
    "\n",
    "print(gs_classifier.get_params())\n",
    "print(\"Best parameter settings:\", gs_classifier.best_params_)\n",
    "print(\"Validation accuracy: %0.6f\" % gs_classifier.best_score_)"
   ]
  },
  {
   "cell_type": "markdown",
   "metadata": {},
   "source": [
    "In the code above, calling `gs_classifier.fit` will perform cross-validation for all parameter settings. Once it finishes, then `gs_classifier` can be used as any other classifier object, so you can call the `predict` or `predict_proba` functions to make classifications, just as you did in HW3. As you can see in the code above, the object also contains variables that will give you the optimal parameters and cross-validation accuracy."
   ]
  },
  {
   "cell_type": "markdown",
   "metadata": {},
   "source": [
    "## Problem 1: Feature Choice and Selection [7 points]\n",
    "\n",
    "We will begin by experimenting with different feature sets, where we modify the feature set in two ways. First, we will experiment with different sizes of n-grams. Second, we will experiment with automated feature selection."
   ]
  },
  {
   "cell_type": "markdown",
   "metadata": {},
   "source": [
    "### N-gram size\n",
    "\n",
    "As you saw above, the `features` function takes a keyword argument, `ngram_range`, that let's you specify the sizes of n-grams to extract. Experiment with six different ranges of n-gram sizes: (1,1), (2,2), (3,3), (1,2), (1,3), (2,3)\n",
    "\n",
    "For each n-gram range, you'll need to re-extract and vectorize the features (calling the `features` and `vect.fit_transform` functions, as done above). For each setting, calculate the cross-validation accuracy with `best_score_` when $C=.1$. (In practice, you might want to tune $C$ for each ngram feature size. But this takes too long for a homework assignment.) \n",
    "\n"
   ]
  },
  {
   "cell_type": "code",
   "execution_count": 6,
   "metadata": {},
   "outputs": [],
   "source": [
    "#### Deliverable 1.1: Fill in the table below with the cross-validation accuracy when using each range of n-grams.\n",
    "#### To fill out the table, you will need to modify the cell below"
   ]
  },
  {
   "cell_type": "code",
   "execution_count": 7,
   "metadata": {},
   "outputs": [
    {
     "name": "stdout",
     "output_type": "stream",
     "text": [
      "N-Gram:  (1, 1)\n",
      "Validation accuracy: 0.737079\n",
      "N-Gram:  (2, 2)\n",
      "Validation accuracy: 0.675281\n",
      "N-Gram:  (3, 3)\n",
      "Validation accuracy: 0.606742\n",
      "N-Gram:  (1, 2)\n",
      "Validation accuracy: 0.725843\n",
      "N-Gram:  (1, 3)\n",
      "Validation accuracy: 0.720225\n",
      "N-Gram:  (2, 3)\n",
      "Validation accuracy: 0.651685\n"
     ]
    }
   ],
   "source": [
    "### Modify this code to test out different ngram ranges\n",
    "\n",
    "# This code will take a few minutes to run\n",
    "\n",
    "params = [{'C': [.1]}]\n",
    "\n",
    "vect = DictVectorizer()\n",
    "\n",
    "ngs = [(1,1), (2,2), (3,3), (1,2), (1,3), (2,3)]\n",
    "\n",
    "for ng in ngs:\n",
    "    X_train = vect.fit_transform(features(d, ngram_range=ng) for d in text_train)\n",
    "\n",
    "    base_classifier = LogisticRegression(multi_class='multinomial', solver='lbfgs', C=.1, max_iter=300, tol=1e-2, random_state=123)\n",
    "\n",
    "    gs_classifier = GridSearchCV(base_classifier, params, cv=2)\n",
    "    gs_classifier.fit(X_train, Y_train)\n",
    "    print(\"N-Gram: \", ng)\n",
    "    print(\"Validation accuracy: %0.6f\" % gs_classifier.best_score_)"
   ]
  },
  {
   "cell_type": "markdown",
   "metadata": {},
   "source": [
    "| N-grams | Validation accuracy |\n",
    "|---------|---------------------|\n",
    "| (1,1)   |   0.737079                  |\n",
    "| (2,2)   |   0.675281                  |\n",
    "| (3,3)   |   0.606742                  |\n",
    "| (1,2)   |   0.725843                  |\n",
    "| (1,3)   |   0.720225                  |\n",
    "| (2,3)   |   0.651685                  |\n"
   ]
  },
  {
   "cell_type": "markdown",
   "metadata": {},
   "source": [
    "# Deliverable 1.2: \n",
    "### Describe what you observe with different length n-grams. \n",
    "### When using only one type of n-gram (1, 2, or 3), how does the length affect accuracy? \n",
    "### How does using only one size of n-gram (1, 2, or 3) compare to using a range of different sizes (1-2, 1-3, or 2-3)?\n",
    "\n",
    "[response here]\n",
    "I observe that the best accuracy is just using n-grams of length 1, and the next best 2 models use the n-grams of length 1 in combination with n-grams of length 2 and/or length 3 as well. Excluding n-grams of length 1 seems to make the model do quite a bit worse. In general, only using one length of n-gram is not a good solution unless it is length 1. The longer the length, the worse the accuracy for a single n-gram model. "
   ]
  },
  {
   "cell_type": "markdown",
   "metadata": {},
   "source": [
    "### Feature selection\n",
    "\n",
    "Selecting a subset of features can improve classifier efficiency and potentially guard against overfitting. However, it can also hurt performance if too many features are removed. We will now experiment with different levels of feature selection.\n",
    "\n",
    "We will use the [`SelectPercentile`](http://scikit-learn.org/stable/modules/generated/sklearn.feature_selection.SelectPercentile.html) class, which can be used to select features that are within a specified percentile according to a scoring function that ranks the quality of the features. The code below instantiates a `SelectPercentile` object using the [`chi2`](http://scikit-learn.org/stable/modules/generated/sklearn.feature_selection.chi2.html) function, which performs a chi-squared test for measuring the significance of features. The `percentile` argument specifies the percentile of features that are selected after ranking by their chi-squared statistic. If `percentile=1`, only the top 1% of features will be selected. If `percentile=100`, all features will be selected.\n",
    "\n",
    "Once you've created a `SelectPercentile` object, its `fit` function can be called to calculate the significance of the features, and its `transform` function will modify the feature vectors to choose only the selected features. The `fit_transform` function performs both of these steps, which is what you see below.\n",
    "\n",
    "Experiment with different feature selection percentiles to see how the training accuracy is affected by different settings.\n",
    "\n",
    "#### Deliverable 1.3: Calculate the cross-validation accuracy at different values of `percentile`, when the percentile is each of $[1, 5, 20, 50, 100]$. Create a plot where the percentile is on the x-axis and the cross validation accuracy is on the y-axis (again, accessible via the `best_score_` attribute). Do this using n-gram ranges of (1,3).\n",
    "\n",
    "[your code for this should be below]\n"
   ]
  },
  {
   "cell_type": "code",
   "execution_count": 8,
   "metadata": {},
   "outputs": [
    {
     "name": "stdout",
     "output_type": "stream",
     "text": [
      "percentile:  1\n",
      "Validation accuracy: 0.752809\n",
      "percentile:  5\n",
      "Validation accuracy: 0.751685\n",
      "percentile:  20\n",
      "Validation accuracy: 0.735955\n",
      "percentile:  50\n",
      "Validation accuracy: 0.713483\n",
      "percentile:  100\n",
      "Validation accuracy: 0.720225\n"
     ]
    },
    {
     "data": {
      "text/html": [
       "\n",
       "<div id=\"altair-viz-e867ba902fd348c584c6995442188555\"></div>\n",
       "<script type=\"text/javascript\">\n",
       "  (function(spec, embedOpt){\n",
       "    let outputDiv = document.currentScript.previousElementSibling;\n",
       "    if (outputDiv.id !== \"altair-viz-e867ba902fd348c584c6995442188555\") {\n",
       "      outputDiv = document.getElementById(\"altair-viz-e867ba902fd348c584c6995442188555\");\n",
       "    }\n",
       "    const paths = {\n",
       "      \"vega\": \"https://cdn.jsdelivr.net/npm//vega@5?noext\",\n",
       "      \"vega-lib\": \"https://cdn.jsdelivr.net/npm//vega-lib?noext\",\n",
       "      \"vega-lite\": \"https://cdn.jsdelivr.net/npm//vega-lite@4.8.1?noext\",\n",
       "      \"vega-embed\": \"https://cdn.jsdelivr.net/npm//vega-embed@6?noext\",\n",
       "    };\n",
       "\n",
       "    function loadScript(lib) {\n",
       "      return new Promise(function(resolve, reject) {\n",
       "        var s = document.createElement('script');\n",
       "        s.src = paths[lib];\n",
       "        s.async = true;\n",
       "        s.onload = () => resolve(paths[lib]);\n",
       "        s.onerror = () => reject(`Error loading script: ${paths[lib]}`);\n",
       "        document.getElementsByTagName(\"head\")[0].appendChild(s);\n",
       "      });\n",
       "    }\n",
       "\n",
       "    function showError(err) {\n",
       "      outputDiv.innerHTML = `<div class=\"error\" style=\"color:red;\">${err}</div>`;\n",
       "      throw err;\n",
       "    }\n",
       "\n",
       "    function displayChart(vegaEmbed) {\n",
       "      vegaEmbed(outputDiv, spec, embedOpt)\n",
       "        .catch(err => showError(`Javascript Error: ${err.message}<br>This usually means there's a typo in your chart specification. See the javascript console for the full traceback.`));\n",
       "    }\n",
       "\n",
       "    if(typeof define === \"function\" && define.amd) {\n",
       "      requirejs.config({paths});\n",
       "      require([\"vega-embed\"], displayChart, err => showError(`Error loading script: ${err.message}`));\n",
       "    } else if (typeof vegaEmbed === \"function\") {\n",
       "      displayChart(vegaEmbed);\n",
       "    } else {\n",
       "      loadScript(\"vega\")\n",
       "        .then(() => loadScript(\"vega-lite\"))\n",
       "        .then(() => loadScript(\"vega-embed\"))\n",
       "        .catch(showError)\n",
       "        .then(() => displayChart(vegaEmbed));\n",
       "    }\n",
       "  })({\"config\": {\"view\": {\"continuousWidth\": 400, \"continuousHeight\": 300}}, \"data\": {\"name\": \"data-4d1f7d185e9e595239b3b184f7a68684\"}, \"mark\": \"line\", \"encoding\": {\"x\": {\"type\": \"quantitative\", \"field\": \"Percentile\"}, \"y\": {\"type\": \"quantitative\", \"field\": \"Accuracy\", \"scale\": {\"zero\": false}}}, \"$schema\": \"https://vega.github.io/schema/vega-lite/v4.8.1.json\", \"datasets\": {\"data-4d1f7d185e9e595239b3b184f7a68684\": [{\"Percentile\": 1, \"Accuracy\": 0.752808988764045}, {\"Percentile\": 5, \"Accuracy\": 0.751685393258427}, {\"Percentile\": 20, \"Accuracy\": 0.7359550561797752}, {\"Percentile\": 50, \"Accuracy\": 0.7134831460674157}, {\"Percentile\": 100, \"Accuracy\": 0.7202247191011236}]}}, {\"mode\": \"vega-lite\"});\n",
       "</script>"
      ],
      "text/plain": [
       "alt.Chart(...)"
      ]
     },
     "execution_count": 8,
     "metadata": {},
     "output_type": "execute_result"
    }
   ],
   "source": [
    "from sklearn.feature_selection import SelectPercentile, chi2\n",
    "%matplotlib inline\n",
    "import matplotlib.pyplot as plt\n",
    "import altair as alt\n",
    "\n",
    "# example: feature selection at the 60th percentile.\n",
    "# Note the renaming of the feature vectors to X_train_selected\n",
    "\n",
    "base_classifier = LogisticRegression(multi_class='multinomial', solver='lbfgs', max_iter=300, tol=1e-2, random_state=123)\n",
    "\n",
    "percentiles = [1,5,20,50,100]\n",
    "acc = []\n",
    "\n",
    "for p in percentiles:\n",
    "    selection = SelectPercentile(percentile=p, score_func=chi2)\n",
    "    X_train_3g = vect.fit_transform(features(d, ngram_range=(1,3)) for d in text_train)\n",
    "    X_train_selected = selection.fit_transform(X_train_3g, Y_train)\n",
    "    gs_classifier = GridSearchCV(base_classifier, params, cv=2)\n",
    "    gs_classifier.fit(X_train_selected, Y_train)\n",
    "    print(\"percentile: \", p)\n",
    "    print(\"Validation accuracy: %0.6f\" % gs_classifier.best_score_)\n",
    "    acc.append(gs_classifier.best_score_)\n",
    "    \n",
    "\n",
    "\n",
    "df = pd.DataFrame({\"Percentile\": percentiles,\n",
    "                   \"Accuracy\":acc})\n",
    "\n",
    "alt.Chart(df).mark_line().encode(\n",
    "    x='Percentile',\n",
    "    y=alt.Y(\"Accuracy\",scale=alt.Scale(zero=False)))"
   ]
  },
  {
   "cell_type": "markdown",
   "metadata": {},
   "source": [
    "#### Deliverable 1.4: Describe what you observe in the 1.3 plots. \n",
    "##### Comment on any general patterns that you see and explain why you think this behavior happens.\n",
    "\n",
    "[response here]\n",
    "It would appear that in general, the lower the percentile, the better the accuracy. This makes sense, because it means that when we train our model on features (combinations of words or just single words) that are reported to be the most important (probably the rarest words), then our accuracy goes way up. However, we also see that there is an increase in accuracy towards the 100th percentile... which is curious. This might happen because the model does better with more context, and so when we add back in some of those more common words as features perhaps our 3-gram models and 2-gram models give us more information because we are also including the n-grams that have common words in their combinations!"
   ]
  },
  {
   "cell_type": "markdown",
   "metadata": {},
   "source": [
    "## Problem 2: Feature Engineering [3 points; +6 EC possible]\n",
    "\n",
    "### Choosing final hyperparameters\n",
    "\n",
    "Above, you experimented with various ranges of n-grams and feature selection percentiles. For the remainder of this assignment, you should stick with one setting of n-gram range and percentile.\n",
    "\n",
    "In the code below, the variables `ngr` and `per` define the n-gram range and percentile that you will use in the remaining experience. Currently, `ngr` is set to $(1,3)$ and `per` is set to $100$, but you should modify these values as needed and set them to whatever values gave you the best validation accuracy in your experiments in Problem 1."
   ]
  },
  {
   "cell_type": "code",
   "execution_count": 9,
   "metadata": {},
   "outputs": [],
   "source": [
    "ngr = (1,1)\n",
    "per = 1"
   ]
  },
  {
   "cell_type": "markdown",
   "metadata": {},
   "source": [
    "Since we are no longer tuning the hyperparameters, now is a reasonable time to also look at the test data. The code below calculates both the cross-validation as well as the accuracy on the test data using the best classifier from cross-validation, using the randomly chosen n-gram and percentile settings. \n",
    "\n",
    "You don't need to do anything in this section except understand and run the code in the cell below."
   ]
  },
  {
   "cell_type": "code",
   "execution_count": 10,
   "metadata": {},
   "outputs": [
    {
     "name": "stdout",
     "output_type": "stream",
     "text": [
      "Validation accuracy: 0.723596\n",
      "Test accuracy: 0.654545\n"
     ]
    }
   ],
   "source": [
    "X_train_final = vect.fit_transform(features(d, ngram_range=ngr) for d in text_train)\n",
    "X_test_final = vect.transform(features(d, ngram_range=ngr) for d in text_test)\n",
    "\n",
    "selection = SelectPercentile(percentile=per, score_func=chi2)\n",
    "X_train_final = selection.fit_transform(X_train_final, Y_train)\n",
    "X_test_final = selection.transform(X_test_final)\n",
    "\n",
    "gs_classifier = GridSearchCV(base_classifier, params, cv=2)\n",
    "gs_classifier.fit(X_train_final, Y_train)\n",
    "\n",
    "print(\"Validation accuracy: %0.6f\" % gs_classifier.best_score_)\n",
    "print(\"Test accuracy: %0.6f\" % accuracy_score(Y_test, gs_classifier.predict(X_test_final)))"
   ]
  },
  {
   "cell_type": "markdown",
   "metadata": {},
   "source": [
    "### Creating new features\n",
    "\n",
    "You will now expand the feature set by implementing a new type of feature. You get to choose which type of feature to implement, from a set of three possibilities described below.\n",
    "\n",
    "- **4604 students:** You must implement one of the three types of features for full credit. You will earn 3 extra credit points for each additional type of feature that you correctly implement (up to 6 EC points possible).\n",
    "- **5604 students:** You must implement two of the three types of features for full credit. You will earn 3 extra credit points for additionally implementing the third feature type.\n",
    "\n",
    "How do you add new features? You will need to create a new feature extraction function. Start by copying the definition of the `features` function at the start of this notebook and renaming it. Keep everything from the original function, but write additional code that appends your new features to the `features_in_text` array. You can create any additional helper functions as needed.\n",
    "\n",
    "The description of each feature type is below. Be sure to read the instructions carefully.\n",
    "\n",
    "- **Skip-grams:** A type of feature that is related to an n-gram is a _skip-gram_. Skip-grams can be defined in different ways, but the definition you will use here is a sequence of word tokens where only the first and last word are specified, while any word token in between is replaced with a general placeholder symbol (usually an asterisk, $*$). For example, the string \"the water is cold\" contains two length-3 skip-grams (\"`the * is`\" and \"`water * cold`\") and one length-4 skip-gram (\"`the * * cold`\"). The purpose of skip-grams is to capture longer sequences while being general enough to match more instances than with longer n-grams. To implement a skip-gram of length $k$, you can simply extract $k$-grams (i.e., n-grams of length $k$) and replace the inner tokens with asterisks. Like with the n-gram features, the values of the skip-gram features should be their counts. For this assignment, you should extract skip-grams of both length 3 and length 4.\n",
    "- **Word pairs:** It may be helpful to encode combinations of words that appear in a document, regardless of whether they appear in a particular sequence. One type of feature is to indicate if two words are both present in a text (like doing an *AND* operation on the presense of the two unigrams). For example, the string \"the water is cold\" contains 6 distinct word pairs (\"`(the,water)`\", \"`(the,is)`\", \"`(the,cold)`\", \"`(water,is)`\", \"`(water,cold)`\", \"`(is,cold)`\"). For full credit, your code should not include pairs that are permutations of each other $-$ for example, include `(water,cold)` or `(cold,water)` but not both. An easy way to do this is to sort the words in alphabetical order within pairs. For this feature, simply use the value $1$ if the pair is present in a text and $0$ otherwise (that is, binary values rather than using full counts).\n",
    "- **Sentiment dictionary:** One might also take advantage of external resources others have created for sentiment analysis. For this type of feature, we will use a sentiment *lexicon* created by researcher [Bing Liu](https://www.cs.uic.edu/~liub/FBS/sentiment-analysis.html), which is a list of words that have a tendency to show positive sentiment and a list of words with negative sentiment. The lexicon contains thousands of words; the words are already loaded for you in the code cell below. For this feature, you should extract n-grams (using whatever n-gram range was randomly selected above) where any word that appears in the positive dictionary is replaced with the capitalized string \"`POS`\" and any word in the negative dictionary is replaced with the string \"`NEG`\". For example, the word \"cold\" is in the negative dictionary, so the string \"the water is cold\" should have five unigrams all with value $1$ (\"`the`\", \"`water`\", \"`is`\", \"`cold`\", \"`NEG`\"), and four bigrams with value with $1$ (\"`the water`\", \"`water is`\", \"`is cold`\", \"`is NEG`\").\n",
    "\n",
    "After writing your new function, you should test the function on a few example strings to see if it is extracting features in the way you expect."
   ]
  },
  {
   "cell_type": "code",
   "execution_count": 11,
   "metadata": {},
   "outputs": [],
   "source": [
    "## If you are using the third feature type (sentiment dictionary),\n",
    "## run this block of code.\n",
    "\n",
    "# (original source: http://www.cs.uic.edu/~liub/FBS/opinion-lexicon-English.rar )\n",
    "\n",
    "sentiment_df = pd.read_csv('sentiment-words.csv', header=None, encoding='ISO-8859-1')\n",
    "\n",
    "# The two variables, positive_words and negative_words, are sets that contain the positive/negative words\n",
    "\n",
    "positive_words = sentiment_df.loc[sentiment_df[0] == 'positive']\n",
    "positive_words = set(positive_words.iloc[0:, 1].values)\n",
    "\n",
    "negative_words = sentiment_df.loc[sentiment_df[0] == 'negative']\n",
    "negative_words = set(negative_words.iloc[0:, 1].values)"
   ]
  },
  {
   "cell_type": "code",
   "execution_count": 12,
   "metadata": {},
   "outputs": [],
   "source": [
    "def skip_gram_features(text, ngram_range=(3,4)):\n",
    "\n",
    "    text = text.lower()      # make the string lowercase\n",
    "    text = re.sub(r'(.)\\1+', r'\\1\\1', text)     # remove consecutive characters that are repeated more than twice\n",
    "    \n",
    "    features_in_text = []   # running list of all features in this instance (can be repeated)\n",
    "    \n",
    "    # treat alphanumeric characters as word tokens (removing anything else),\n",
    "    # and extract all n-grams of length n specified by ngram_range\n",
    "    \n",
    "    text_alphanum = re.sub('[^a-z0-9]', ' ', text)\n",
    "    for n in range(ngram_range[0], ngram_range[1]+1):\n",
    "        features_in_text += ngrams(text_alphanum.split(), n)\n",
    "    \n",
    "    # now treat punctuation as word tokens, and get their counts (only unigrams)\n",
    "    \n",
    "    text_punc = re.sub('[a-z0-9]', ' ', text)\n",
    "    features_in_text += ngrams(text_punc.split(), 1)\n",
    "    skipgram_features = []\n",
    "    \n",
    "    #My added code to extract and create the skipgrams with asterisk notation\n",
    "    for ngram in features_in_text:\n",
    "        tokens = ngram.split(' ')\n",
    "        skipgram = \"\"\n",
    "        for i in range(len(ngram.split(' '))):\n",
    "            if i == 0 or i == len(ngram.split(' ')) - 1:\n",
    "                skipgram += tokens[i]\n",
    "            else:\n",
    "                skipgram += \" * \"\n",
    "        skipgram_features.append(skipgram)\n",
    "    \n",
    "    return Counter(skipgram_features)\n",
    "\n",
    "def word_pair_features(text, ngram_range=None):\n",
    "    text = text.lower()      # make the string lowercase\n",
    "    text = re.sub(r'(.)\\1+', r'\\1\\1', text)     # remove consecutive characters that are repeated more than twice\n",
    "    \n",
    "    features_in_text = []   # running list of all features in this instance (can be repeated)\n",
    "    \n",
    "    # treat alphanumeric characters as word tokens (removing anything else),  \n",
    "    text_alphanum = re.sub('[^a-z0-9]', ' ', text)\n",
    "    \n",
    "    #my code to create a dictionary of all the permutations\n",
    "    permutation_dict = {}\n",
    "    all_words_list = text_alphanum.split()\n",
    "    for i in range(len(all_words_list) - 1):\n",
    "        permutation_dict[all_words_list[i]] = []\n",
    "        for j in range(i+1, len(all_words_list)):\n",
    "            #THIS IS THE BROKEN STUFF\n",
    "#             if (all_words_list[j] in permutation_dict) and (all_words_list[i] in permutation_dict[all_words_list[j]]):\n",
    "#                 print('CONDITION')\n",
    "#                 print(all_words_list[j])\n",
    "#                 print(all_words_list[i])\n",
    "#                 print(permutation_dict[all_words_list[j]])\n",
    "#             else:\n",
    "            permutation_dict[all_words_list[i]].append(all_words_list[j])\n",
    "    \n",
    "    #my code to turn the permutation dictionary into a list of unique pairs for counting\n",
    "    pairs = []\n",
    "    for word in permutation_dict:\n",
    "        for paired_word in permutation_dict[word]:\n",
    "            this_pair = word + \" \" + paired_word\n",
    "            pairs.append(this_pair)\n",
    "            \n",
    "    return Counter(pairs)\n",
    "\n",
    "def sentiment_features(text, ngram_range=(1,1)):\n",
    "    text = text.lower()      # make the string lowercase\n",
    "    text = re.sub(r'(.)\\1+', r'\\1\\1', text)     # remove consecutive characters that are repeated more than twice\n",
    "    \n",
    "    features_in_text = []   # running list of all features in this instance (can be repeated)\n",
    "    \n",
    "    # treat alphanumeric characters as word tokens (removing anything else),\n",
    "    # and extract all n-grams of length n specified by ngram_range\n",
    "    \n",
    "    text_alphanum = re.sub('[^a-z0-9]', ' ', text)\n",
    "    \n",
    "    #my code to replace all pos and neg words with \"POS\" and \"NEG\" before continuing the n-gram extraction\n",
    "    text_alphanum_negpos = []\n",
    "    for word in text_alphanum.split(' '):\n",
    "        new_word = word\n",
    "        if word in positive_words:\n",
    "            new_word = \"POS\"\n",
    "        elif word in negative_words:\n",
    "            new_word = \"NEG\"\n",
    "        text_alphanum_negpos.append(new_word)\n",
    "        \n",
    "    text_alphanum = ' '.join(text_alphanum_negpos)\n",
    "    \n",
    "    for n in range(ngram_range[0], ngram_range[1]+1):\n",
    "        features_in_text += ngrams(text_alphanum.split(), n)\n",
    "    \n",
    "    # now treat punctuation as word tokens, and get their counts (only unigrams)\n",
    "    \n",
    "    text_punc = re.sub('[a-z0-9]', ' ', text)\n",
    "    features_in_text += ngrams(text_punc.split(), 1)\n",
    "\n",
    "    return Counter(features_in_text)\n",
    "\n",
    "    "
   ]
  },
  {
   "cell_type": "markdown",
   "metadata": {},
   "source": [
    "#### Deliverable 2.1: Say which feature(s) you implemented.  If you were unable to fully implement it, describe what you attempted to do, and any challenges you ran into. \n",
    "\n",
    "I implemented all 3 features. 2 of them were done fully (the skip gram and the sentiment features. However, I was not able to fully implement the word pair features. I ran into trouble when encountering duplicate words in my text string that I passed in. Basically the problem is that not all of the pairs are showing up in the final result, and I'm not sure why (e.g., 'sinister,sinister' is not a pair in my final solution below. Additionally, I am just using the normal Counter object, so I am not doing binary counting as requested in the problem statement. If I had more time to work on this, I would have fixed that problem by doing some more error checking in the dictionary that I create to come up with the permutations of pairs, but alas I ran out of time!"
   ]
  },
  {
   "cell_type": "code",
   "execution_count": 13,
   "metadata": {},
   "outputs": [
    {
     "data": {
      "text/plain": [
       "Counter({'i * a': 1,\n",
       "         'am * sinister': 1,\n",
       "         'a * dog': 1,\n",
       "         'i *  * sinister': 1,\n",
       "         'am *  * dog': 1})"
      ]
     },
     "execution_count": 13,
     "metadata": {},
     "output_type": "execute_result"
    }
   ],
   "source": [
    "# If you implemented skip_gram_features uncomment the next line and run the code to show the output from your function\n",
    "skip_gram_features('I am a sinister dog', (3,4))"
   ]
  },
  {
   "cell_type": "code",
   "execution_count": 14,
   "metadata": {},
   "outputs": [
    {
     "data": {
      "text/plain": [
       "Counter({'i am': 2,\n",
       "         'i a': 2,\n",
       "         'i sinister': 2,\n",
       "         'i dog': 2,\n",
       "         'am sinister': 1,\n",
       "         'am a': 1,\n",
       "         'am dog': 1,\n",
       "         'a dog': 1,\n",
       "         'sinister a': 1,\n",
       "         'sinister dog': 1,\n",
       "         'dog am': 1,\n",
       "         'dog sinister': 1,\n",
       "         'dog a': 1,\n",
       "         'dog dog': 1})"
      ]
     },
     "execution_count": 14,
     "metadata": {},
     "output_type": "execute_result"
    }
   ],
   "source": [
    "# If you implemented word_pair_features uncomment the next line and run the code to show the output from your function\n",
    "word_pair_features('I am a sinister dog am sinister a dog', (1,1))"
   ]
  },
  {
   "cell_type": "code",
   "execution_count": 15,
   "metadata": {},
   "outputs": [
    {
     "data": {
      "text/plain": [
       "Counter({'i': 1,\n",
       "         'am': 1,\n",
       "         'a': 1,\n",
       "         'NEG': 1,\n",
       "         'POS': 2,\n",
       "         'dog': 1,\n",
       "         'cat': 1,\n",
       "         'i am': 1,\n",
       "         'am a': 1,\n",
       "         'a NEG': 1,\n",
       "         'NEG POS': 1,\n",
       "         'POS POS': 1,\n",
       "         'POS dog': 1,\n",
       "         'dog cat': 1,\n",
       "         'i am a': 1,\n",
       "         'am a NEG': 1,\n",
       "         'a NEG POS': 1,\n",
       "         'NEG POS POS': 1,\n",
       "         'POS POS dog': 1,\n",
       "         'POS dog cat': 1})"
      ]
     },
     "execution_count": 15,
     "metadata": {},
     "output_type": "execute_result"
    }
   ],
   "source": [
    "# If you implemented sentiment_features uncomment the next line and run the code to show the output from your function\n",
    "sentiment_features('I am a sinister beautiful happy dog cat', (1,3))"
   ]
  },
  {
   "cell_type": "markdown",
   "metadata": {},
   "source": [
    "\n",
    "#### Deliverable 2.2: Calculate the 2-fold cross-validation accuracy and test accuracy using your new feature set. Compare the new accuracies with the accuracies in the code cell above, before you changed the features. Your new features may help, hurt, or make no change to the accuracy. In any case, give a possible explanation for why it affected (or didn't affect) the accuracy.\n",
    "\n",
    "##### For this deliverable, use an ngram range of (3,5). This is implemented for you below\n",
    "My results were as follows:\n",
    "- SKIP-GRAM\n",
    "-- Validation accuracy: 0.730337\n",
    "-- Test accuracy: 0.618182\n",
    "- UNWORKING WORD-PAIR SOLUTION\n",
    "-- Validation accuracy: 0.737079\n",
    "-- Test accuracy: 0.700000\n",
    "- SENTIMENT FEATURES\n",
    "-- Validation accuracy: 0.713483\n",
    "-- Test accuracy: 0.618182\n",
    "- PREVIOUS FEATURE SELECTION ACCURACY\n",
    "-- Validation accuracy: 0.723596\n",
    "-- Test accuracy: 0.654545\n",
    "\n",
    "It appears that my new approaches somewhat helped in terms of my training accuracy, but almost all of them hurt the testing accuracy. Ironically, my non-working solution for the word-pair feature extraction worked the best for both training and testing even moreso than the previous feature-extraction solution!! I think that the skip-gram probably became overfit to the training data, given that a bunch of relevant words were replaced with astrisks in the model fitting stage, which is why the testing accuracy is so low for that feature extraction. For the sentiment model, I think similarly some important words were replaced with POS or NEG, which might have made the model lose context in the testing data. For the word-pair solution, this is curious that it happened to work so well... I guess that the prevalence of unique pairs was helpful for the model and generalizable, even despite the fact that some pairs were missing (as mentioned above and why my solution wasn't complete yet). I guess sometimes it's the unplanned feature extraction methods that perform the best! :)\n"
   ]
  },
  {
   "cell_type": "code",
   "execution_count": 17,
   "metadata": {},
   "outputs": [
    {
     "name": "stdout",
     "output_type": "stream",
     "text": [
      "SKIP-GRAM\n",
      "Validation accuracy: 0.730337\n",
      "Test accuracy: 0.618182\n",
      "UNWORKING WORD-PAIR SOLUTION\n",
      "Validation accuracy: 0.737079\n",
      "Test accuracy: 0.700000\n",
      "SENTIMENT FEATURES\n",
      "Validation accuracy: 0.713483\n",
      "Test accuracy: 0.618182\n",
      "PREVIOUS FEATURE SELECTION ACCURACY\n",
      "Validation accuracy: 0.723596\n",
      "Test accuracy: 0.654545\n"
     ]
    }
   ],
   "source": [
    "# code for 2.1-2.2 here\n",
    "\n",
    "# You should be able to use the code below as-is, except replace the call to the \"features\" function \n",
    "# in the first two lines with a call to the new function that you need to create\n",
    "\n",
    "# sentiment_features\n",
    "\n",
    "ngr = (3,5)\n",
    "\n",
    "print(\"SKIP-GRAM\")\n",
    "X_train_final = vect.fit_transform(skip_gram_features(d, ngram_range=ngr) for d in text_train)\n",
    "X_test_final = vect.transform(skip_gram_features(d, ngram_range=ngr) for d in text_test)\n",
    "selection = SelectPercentile(percentile=per, score_func=chi2)\n",
    "X_train_final = selection.fit_transform(X_train_final, Y_train)\n",
    "X_test_final = selection.transform(X_test_final)\n",
    "gs_classifier = GridSearchCV(base_classifier, params, cv=5)\n",
    "gs_classifier.fit(X_train_final, Y_train)\n",
    "test_acc = np.mean(Y_test == gs_classifier.predict(X_test_final))\n",
    "print(\"Validation accuracy: %0.6f\" % gs_classifier.best_score_)\n",
    "print(\"Test accuracy: %0.6f\" % accuracy_score(Y_test, gs_classifier.predict(X_test_final)))\n",
    "\n",
    "print(\"UNWORKING WORD-PAIR SOLUTION\")\n",
    "X_train_final = vect.fit_transform(word_pair_features(d, ngram_range=ngr) for d in text_train)\n",
    "X_test_final = vect.transform(word_pair_features(d, ngram_range=ngr) for d in text_test)\n",
    "selection = SelectPercentile(percentile=per, score_func=chi2)\n",
    "X_train_final = selection.fit_transform(X_train_final, Y_train)\n",
    "X_test_final = selection.transform(X_test_final)\n",
    "gs_classifier = GridSearchCV(base_classifier, params, cv=5)\n",
    "gs_classifier.fit(X_train_final, Y_train)\n",
    "test_acc = np.mean(Y_test == gs_classifier.predict(X_test_final))\n",
    "print(\"Validation accuracy: %0.6f\" % gs_classifier.best_score_)\n",
    "print(\"Test accuracy: %0.6f\" % accuracy_score(Y_test, gs_classifier.predict(X_test_final)))\n",
    "\n",
    "print(\"SENTIMENT FEATURES\")\n",
    "X_train_final = vect.fit_transform(sentiment_features(d, ngram_range=ngr) for d in text_train)\n",
    "X_test_final = vect.transform(sentiment_features(d, ngram_range=ngr) for d in text_test)\n",
    "selection = SelectPercentile(percentile=per, score_func=chi2)\n",
    "X_train_final = selection.fit_transform(X_train_final, Y_train)\n",
    "X_test_final = selection.transform(X_test_final)\n",
    "gs_classifier = GridSearchCV(base_classifier, params, cv=5)\n",
    "gs_classifier.fit(X_train_final, Y_train)\n",
    "test_acc = np.mean(Y_test == gs_classifier.predict(X_test_final))\n",
    "print(\"Validation accuracy: %0.6f\" % gs_classifier.best_score_)\n",
    "print(\"Test accuracy: %0.6f\" % accuracy_score(Y_test, gs_classifier.predict(X_test_final)))\n",
    "\n",
    "print(\"PREVIOUS FEATURE SELECTION ACCURACY\")\n",
    "print(\"Validation accuracy: 0.723596\")\n",
    "print(\"Test accuracy: 0.654545\")"
   ]
  },
  {
   "cell_type": "code",
   "execution_count": null,
   "metadata": {},
   "outputs": [],
   "source": []
  }
 ],
 "metadata": {
  "kernelspec": {
   "display_name": "Python 3",
   "language": "python",
   "name": "python3"
  },
  "language_info": {
   "codemirror_mode": {
    "name": "ipython",
    "version": 3
   },
   "file_extension": ".py",
   "mimetype": "text/x-python",
   "name": "python",
   "nbconvert_exporter": "python",
   "pygments_lexer": "ipython3",
   "version": "3.8.8"
  }
 },
 "nbformat": 4,
 "nbformat_minor": 2
}
