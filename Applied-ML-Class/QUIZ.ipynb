{
 "cells": [
  {
   "cell_type": "code",
   "execution_count": 3,
   "id": "bc2a01c7",
   "metadata": {},
   "outputs": [],
   "source": [
    "def predict(x, w):\n",
    "    dot = 0\n",
    "    for i in range(len(w)):\n",
    "        dot += x[i] * w[i]\n",
    "    if dot < 0:\n",
    "#         return 0 --> THIS IS WRONG\n",
    "        return -1\n",
    "    else:\n",
    "        return 1\n",
    "\n",
    "def learn(instances, labels, epochs, J, eta):\n",
    "    '''\n",
    "    Inputs: \n",
    "\n",
    "        J (int): the number of features per instance\n",
    "        instances (list): a list of N instances, each with J features: \n",
    "                         * e.g. features might be [[1,0,1,0], [0,1,1,1]] \n",
    "                                which represents N=2 instances\n",
    "                                with J=4 instances per point\n",
    "        labels (list): a list of N labels: \n",
    "                            * 1 represents positive instances \n",
    "                            * -1 represents negative instances\n",
    "        epochs (int): an integer, equal to number of passes through the training data\n",
    "        eta (float): a learning rate\n",
    "\n",
    "    Outputs: \n",
    "        w (list): a list of learned weights\n",
    "    '''\n",
    "    w = [] # initialize w, the weights\n",
    "    for j in range(J): \n",
    "        w.append(0)\n",
    "\n",
    "    for epoch in range(epochs):\n",
    "        for index, features in enumerate(instances):\n",
    "            yhat = predict(x=features, w=w)\n",
    "            y = labels[index]\n",
    "            if y == yhat:\n",
    "                pass # do nothing\n",
    "            else:\n",
    "                for j in range(J):\n",
    "                    w[j] += eta * ((y - yhat) * features[j])\n",
    "    return w\n",
    "\n",
    "# if __name__ == \"__main__\":\n"
   ]
  },
  {
   "cell_type": "code",
   "execution_count": 4,
   "id": "39f35985",
   "metadata": {},
   "outputs": [
    {
     "name": "stdout",
     "output_type": "stream",
     "text": [
      "True\n",
      "True\n",
      "True\n",
      "True\n"
     ]
    }
   ],
   "source": [
    "    features = [[0, 1], [1, 0], [1, 1], [1, 0]]\n",
    "    labels = [1,-1, 1, -1]\n",
    "    w = learn(features, labels, epochs=10, J=2, eta=.1)\n",
    "    \n",
    "    for i, f in enumerate(features):\n",
    "        print(predict(f, w) == labels[i])\n",
    "\n"
   ]
  },
  {
   "cell_type": "code",
   "execution_count": null,
   "id": "4ae593b3",
   "metadata": {},
   "outputs": [],
   "source": []
  }
 ],
 "metadata": {
  "kernelspec": {
   "display_name": "Python 3",
   "language": "python",
   "name": "python3"
  },
  "language_info": {
   "codemirror_mode": {
    "name": "ipython",
    "version": 3
   },
   "file_extension": ".py",
   "mimetype": "text/x-python",
   "name": "python",
   "nbconvert_exporter": "python",
   "pygments_lexer": "ipython3",
   "version": "3.8.8"
  }
 },
 "nbformat": 4,
 "nbformat_minor": 5
}
