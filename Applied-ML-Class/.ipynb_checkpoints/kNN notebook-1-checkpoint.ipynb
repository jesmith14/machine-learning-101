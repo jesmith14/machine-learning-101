{
 "cells": [
  {
   "cell_type": "markdown",
   "metadata": {},
   "source": [
    "### kNN Notebook\n",
    "\n",
    "In this notebook we will:\n",
    "\n",
    "1. Get practice using and interpreting K-nearest neighbors\n",
    "2. Learn how to tune a hyperparameter, which is an important skill for machine learning practitioners\n",
    "3. Gain exposure to the scikit-learn API. Scikit-learn is a common toolkit for machine learning in Python"
   ]
  },
  {
   "cell_type": "code",
   "execution_count": 1,
   "metadata": {},
   "outputs": [],
   "source": [
    "# To get started, please import the latest versions of numpy, pandas and sklearn\n",
    "# You will also need to install and load matplotlib, a common Python plotting library\n",
    "\n",
    "# Note: most of the time for plotting, I like Altair. \n",
    "# but the book uses matplotlib and it is good to know both\n",
    "\n",
    "import numpy as np\n",
    "import pandas as pd\n",
    "import sklearn\n",
    "import matplotlib.pyplot as plt\n",
    "\n",
    "# configure matplotlib to show plots in the notebook itself\n",
    "%matplotlib inline "
   ]
  },
  {
   "cell_type": "markdown",
   "metadata": {},
   "source": [
    "### Data\n",
    "\n",
    "In this notebook, we will be using the [Pima Indians Diabetes Dataset](https://www.kaggle.com/uciml/pima-indians-diabetes-database). The data consists of patient records with a number of features, along with a binary label indicating if the patient has diabetes or does not have diabetes. Note that \"all patients here are females at least 21 years old of Pima Indian heritage.\" Note that the `outcome` variable records if a patient does or does not have diabetes."
   ]
  },
  {
   "cell_type": "code",
   "execution_count": 15,
   "metadata": {},
   "outputs": [
    {
     "data": {
      "text/html": [
       "<div>\n",
       "<style scoped>\n",
       "    .dataframe tbody tr th:only-of-type {\n",
       "        vertical-align: middle;\n",
       "    }\n",
       "\n",
       "    .dataframe tbody tr th {\n",
       "        vertical-align: top;\n",
       "    }\n",
       "\n",
       "    .dataframe thead th {\n",
       "        text-align: right;\n",
       "    }\n",
       "</style>\n",
       "<table border=\"1\" class=\"dataframe\">\n",
       "  <thead>\n",
       "    <tr style=\"text-align: right;\">\n",
       "      <th></th>\n",
       "      <th>Pregnancies</th>\n",
       "      <th>Glucose</th>\n",
       "      <th>BloodPressure</th>\n",
       "      <th>SkinThickness</th>\n",
       "      <th>Insulin</th>\n",
       "      <th>BMI</th>\n",
       "      <th>DiabetesPedigreeFunction</th>\n",
       "      <th>Age</th>\n",
       "      <th>Outcome</th>\n",
       "    </tr>\n",
       "  </thead>\n",
       "  <tbody>\n",
       "    <tr>\n",
       "      <th>0</th>\n",
       "      <td>1</td>\n",
       "      <td>85</td>\n",
       "      <td>66</td>\n",
       "      <td>29</td>\n",
       "      <td>0</td>\n",
       "      <td>26.6</td>\n",
       "      <td>0.351</td>\n",
       "      <td>31</td>\n",
       "      <td>0</td>\n",
       "    </tr>\n",
       "    <tr>\n",
       "      <th>1</th>\n",
       "      <td>8</td>\n",
       "      <td>183</td>\n",
       "      <td>64</td>\n",
       "      <td>0</td>\n",
       "      <td>0</td>\n",
       "      <td>23.3</td>\n",
       "      <td>0.672</td>\n",
       "      <td>32</td>\n",
       "      <td>1</td>\n",
       "    </tr>\n",
       "    <tr>\n",
       "      <th>2</th>\n",
       "      <td>1</td>\n",
       "      <td>89</td>\n",
       "      <td>66</td>\n",
       "      <td>23</td>\n",
       "      <td>94</td>\n",
       "      <td>28.1</td>\n",
       "      <td>0.167</td>\n",
       "      <td>21</td>\n",
       "      <td>0</td>\n",
       "    </tr>\n",
       "    <tr>\n",
       "      <th>3</th>\n",
       "      <td>0</td>\n",
       "      <td>137</td>\n",
       "      <td>40</td>\n",
       "      <td>35</td>\n",
       "      <td>168</td>\n",
       "      <td>43.1</td>\n",
       "      <td>2.288</td>\n",
       "      <td>33</td>\n",
       "      <td>1</td>\n",
       "    </tr>\n",
       "    <tr>\n",
       "      <th>4</th>\n",
       "      <td>5</td>\n",
       "      <td>116</td>\n",
       "      <td>74</td>\n",
       "      <td>0</td>\n",
       "      <td>0</td>\n",
       "      <td>25.6</td>\n",
       "      <td>0.201</td>\n",
       "      <td>30</td>\n",
       "      <td>0</td>\n",
       "    </tr>\n",
       "  </tbody>\n",
       "</table>\n",
       "</div>"
      ],
      "text/plain": [
       "   Pregnancies  Glucose  BloodPressure  SkinThickness  Insulin   BMI  \\\n",
       "0            1       85             66             29        0  26.6   \n",
       "1            8      183             64              0        0  23.3   \n",
       "2            1       89             66             23       94  28.1   \n",
       "3            0      137             40             35      168  43.1   \n",
       "4            5      116             74              0        0  25.6   \n",
       "\n",
       "   DiabetesPedigreeFunction  Age  Outcome  \n",
       "0                     0.351   31        0  \n",
       "1                     0.672   32        1  \n",
       "2                     0.167   21        0  \n",
       "3                     2.288   33        1  \n",
       "4                     0.201   30        0  "
      ]
     },
     "execution_count": 15,
     "metadata": {},
     "output_type": "execute_result"
    }
   ],
   "source": [
    "df = pd.read_csv('diabetes-3.csv') #Load the dataset\n",
    "df.head()"
   ]
  },
  {
   "cell_type": "code",
   "execution_count": 16,
   "metadata": {},
   "outputs": [
    {
     "name": "stdout",
     "output_type": "stream",
     "text": [
      "# Features + label Index(['Pregnancies', 'Glucose', 'BloodPressure', 'SkinThickness', 'Insulin',\n",
      "       'BMI', 'DiabetesPedigreeFunction', 'Age', 'Outcome'],\n",
      "      dtype='object')\n",
      "# Features 8\n",
      "# Dimensionality = 767 x 8\n"
     ]
    }
   ],
   "source": [
    "# Print out the features.\n",
    "print(\"# Features + label {}\".format(df.columns))\n",
    "\n",
    "\n",
    "# How many features are there in the dataset? \n",
    "print(\"# Features {}\".format(len(df.columns) - 1))\n",
    "\n",
    "# How many dimensions are there in the dataset? \n",
    "print(\"# Dimensionality = {} x {}\".format(len(df), len(df.columns) - 1))"
   ]
  },
  {
   "cell_type": "code",
   "execution_count": 17,
   "metadata": {},
   "outputs": [
    {
     "data": {
      "text/plain": [
       "(767, 9)"
      ]
     },
     "execution_count": 17,
     "metadata": {},
     "output_type": "execute_result"
    }
   ],
   "source": [
    "df.shape"
   ]
  },
  {
   "cell_type": "code",
   "execution_count": 18,
   "metadata": {},
   "outputs": [],
   "source": [
    "# Let's go ahead and start with a two-dimensional dataset to build intuitions\n",
    "low_dim = df[['Glucose', 'BloodPressure']]\n",
    "labels = df[\"Outcome\"]"
   ]
  },
  {
   "cell_type": "code",
   "execution_count": 1,
   "metadata": {},
   "outputs": [
    {
     "ename": "NameError",
     "evalue": "name 'plt' is not defined",
     "output_type": "error",
     "traceback": [
      "\u001b[0;31m---------------------------------------------------------------------------\u001b[0m",
      "\u001b[0;31mNameError\u001b[0m                                 Traceback (most recent call last)",
      "\u001b[0;32m<ipython-input-1-4f6e839edabc>\u001b[0m in \u001b[0;36m<module>\u001b[0;34m\u001b[0m\n\u001b[1;32m      4\u001b[0m \u001b[0;31m# [TODO: write code here to display a scatter plot]\u001b[0m\u001b[0;34m\u001b[0m\u001b[0;34m\u001b[0m\u001b[0;34m\u001b[0m\u001b[0m\n\u001b[1;32m      5\u001b[0m \u001b[0;34m\u001b[0m\u001b[0m\n\u001b[0;32m----> 6\u001b[0;31m \u001b[0mfig\u001b[0m\u001b[0;34m,\u001b[0m \u001b[0max\u001b[0m \u001b[0;34m=\u001b[0m \u001b[0mplt\u001b[0m\u001b[0;34m.\u001b[0m\u001b[0msubplots\u001b[0m\u001b[0;34m(\u001b[0m\u001b[0;34m)\u001b[0m\u001b[0;34m\u001b[0m\u001b[0;34m\u001b[0m\u001b[0m\n\u001b[0m\u001b[1;32m      7\u001b[0m \u001b[0mscatter\u001b[0m \u001b[0;34m=\u001b[0m \u001b[0max\u001b[0m\u001b[0;34m.\u001b[0m\u001b[0mscatter\u001b[0m\u001b[0;34m(\u001b[0m\u001b[0mx\u001b[0m\u001b[0;34m=\u001b[0m\u001b[0mdf\u001b[0m\u001b[0;34m[\u001b[0m\u001b[0;34m\"Glucose\"\u001b[0m\u001b[0;34m]\u001b[0m\u001b[0;34m,\u001b[0m \u001b[0my\u001b[0m\u001b[0;34m=\u001b[0m\u001b[0mdf\u001b[0m\u001b[0;34m[\u001b[0m\u001b[0;34m\"BloodPressure\"\u001b[0m\u001b[0;34m]\u001b[0m\u001b[0;34m,\u001b[0m \u001b[0mc\u001b[0m\u001b[0;34m=\u001b[0m\u001b[0mdf\u001b[0m\u001b[0;34m[\u001b[0m\u001b[0;34m\"Outcome\"\u001b[0m\u001b[0;34m]\u001b[0m\u001b[0;34m)\u001b[0m\u001b[0;34m\u001b[0m\u001b[0;34m\u001b[0m\u001b[0m\n\u001b[1;32m      8\u001b[0m legend = ax.legend(*scatter.legend_elements(),\n",
      "\u001b[0;31mNameError\u001b[0m: name 'plt' is not defined"
     ]
    }
   ],
   "source": [
    "# Plot Glucose and BloodPressure in two dimensions, with Glucose along the x-axis and BloodPressure along the y-axis\n",
    "# In your plot, use color to indicate if a patient has diabetes or does not have diabetes \n",
    "\n",
    "# [TODO: write code here to display a scatter plot]\n",
    "\n",
    "fig, ax = plt.subplots()\n",
    "scatter = ax.scatter(x=df[\"Glucose\"], y=df[\"BloodPressure\"], c=df[\"Outcome\"])\n",
    "legend = ax.legend(*scatter.legend_elements(),\n",
    "                    loc=\"upper right\", title=\"Classes\")\n",
    "ax.add_artist(legend)\n",
    "plt.show()"
   ]
  },
  {
   "cell_type": "markdown",
   "metadata": {},
   "source": [
    "**Discussion questions**\n",
    "\n",
    "1. Based on your plot, do you think that kNN would do a good job identifying if a patient has diabetes based on their Glucose and BloodPressure?\n",
    "\n",
    "2. Describe a point on your plot where you think kNN would **incorrectly** classify a patient as having or not having diabetes (to answer, assume k=2)."
   ]
  },
  {
   "cell_type": "markdown",
   "metadata": {},
   "source": [
    "## Hello, sklearn! \n",
    "\n",
    "The next cell shows you how to call a classifier from the scikit-learn API. The scikit-learn library does a good job maintaining consitent APIs for all of its classifiers. So you will see this pattern again and again when using the library this semester. Here it is."
   ]
  },
  {
   "cell_type": "code",
   "execution_count": 5,
   "metadata": {},
   "outputs": [
    {
     "data": {
      "text/plain": [
       "0.81640625"
      ]
     },
     "execution_count": 5,
     "metadata": {},
     "output_type": "execute_result"
    }
   ],
   "source": [
    "from sklearn.neighbors import KNeighborsClassifier   # import the classifier\n",
    "\n",
    "knn = KNeighborsClassifier(n_neighbors=2)  # Instantiate the classifier object\n",
    "\n",
    "knn.fit(low_dim, labels)   # Fit the classifier \n",
    "\n",
    "knn.score(low_dim, labels)   # Report the accuracy of the classifier\n",
    "                             # The accuracy of a classifier is simply what fraction of the data it labels correctly"
   ]
  },
  {
   "cell_type": "markdown",
   "metadata": {},
   "source": [
    "**Discussion question**\n",
    "\n",
    "Based on your scatter plot, does it make sense that the accuracy is 81.6%? Does the number seem high or low or appropriate to you? Explain your reasoning."
   ]
  },
  {
   "cell_type": "markdown",
   "metadata": {},
   "source": [
    "## Hello, tuning! \n",
    "\n",
    "A **hyperparameter** is a parameter set by the practitoner, instead of learned from data. It's called a hyperparameter because machine learning models also have **parameters** which are learned from data (rather than set by hand). In a week or so, you will have a better sense of what it means to _learn_ a parameter from data. For now, it's enough to say that $k$ is a hyperparameter for k-nearest neighbors. $k$ is a hyperparameter because the practitioner decides if we should set a label based on if $k=1$ or $k=10$. \n",
    "\n",
    "In machine learning, choosing the value of a hyperparameter is called \"tuning\". It's fun to sit there picking values of hyperparameters and observing what happens. But it's much better to be systematic in how you choose a hyperparameter. One common strategy is called **grid search**. The idea behind [grid search](https://scikit-learn.org/stable/modules/generated/sklearn.model_selection.GridSearchCV.html) is to check how a model performs by taking even steps across a range of values. Other strategies include [random search](https://www.jmlr.org/papers/volume13/bergstra12a/bergstra12a.pdf) and [Bayesian optimization](https://distill.pub/2020/bayesian-optimization/). In general, it's OK to stick to simpler strategies like grid search for hyperparamter tuning when you are starting out.\n",
    "\n",
    "The next cell shows how to perform a grid search over different possible values of $k$. Please read over the code and take a moment to understand what it is doing."
   ]
  },
  {
   "cell_type": "code",
   "execution_count": 10,
   "metadata": {},
   "outputs": [
    {
     "data": {
      "image/png": "[encoded data removed]",
      "text/plain": [
       "<Figure size 432x288 with 1 Axes>"
      ]
     },
     "metadata": {
      "needs_background": "light"
     },
     "output_type": "display_data"
    }
   ],
   "source": [
    "from sklearn.neighbors import KNeighborsClassifier\n",
    "\n",
    "#Setup arrays to store training and test accuracies\n",
    "neighbors = np.arange(1,25)\n",
    "accuracy = np.empty(len(neighbors))\n",
    "\n",
    "for i,k in enumerate(neighbors):\n",
    "    #Setup a knn classifier with k neighbors\n",
    "    knn = KNeighborsClassifier(n_neighbors=k)\n",
    "    \n",
    "    #Fit the model\n",
    "    knn.fit(low_dim, labels)\n",
    "    \n",
    "    #Compute accuracy\n",
    "    accuracy[i] = knn.score(low_dim, labels)\n",
    "    \n",
    "#Generate plot\n",
    "plt.title('k-NN Varying number of neighbors')\n",
    "plt.plot(neighbors, accuracy, label='Training Accuracy')\n",
    "plt.legend()\n",
    "plt.xlabel('Number of neighbors')\n",
    "plt.ylabel('Training Accuracy')\n",
    "plt.show()"
   ]
  },
  {
   "cell_type": "markdown",
   "metadata": {},
   "source": [
    "**Questions**\n",
    "\n",
    "Why is accuracy 100% when K=1? \n",
    "\n",
    "Based on your plot, why do you think training accuracy decreases as $k$ gets larger? Why might we want training accuracy to go down?"
   ]
  },
  {
   "cell_type": "code",
   "execution_count": 11,
   "metadata": {},
   "outputs": [
    {
     "name": "stdout",
     "output_type": "stream",
     "text": [
      "0.6510416666666666\n",
      "0.6510416666666666\n"
     ]
    }
   ],
   "source": [
    "## What happens if we set K to the number of labels in the dataset?\n",
    "\n",
    "N = labels.size\n",
    "\n",
    "knn = KNeighborsClassifier(n_neighbors=N)\n",
    "\n",
    "knn.fit(low_dim, labels)\n",
    "\n",
    "# Count up how many times there are 0s and 1s in the dataset\n",
    "values, counts = np.unique(labels, return_counts=True)\n",
    "total_zeros = counts[0]\n",
    "total_ones = counts[1]\n",
    "\n",
    "print(total_zeros / labels.size)\n",
    "print(knn.score(low_dim, labels))"
   ]
  },
  {
   "cell_type": "markdown",
   "metadata": {},
   "source": [
    "**Question**\n",
    "\n",
    "The previous cell shows the accuracy of kNN when $k = N$, where $N$ is the total number of instances in the dataset. What do you observe? Why do you think that is the case?"
   ]
  },
  {
   "cell_type": "markdown",
   "metadata": {},
   "source": [
    "### Plotting a decision boundry \n",
    "\n",
    "Decision boundaries divide up feature space. Points in certain regions of the feature space are assigned to one class, and points in other regions of the feature space are assigned to another class. Use the variable `k` in the code below to vary $k$. What happens to the plot of the decision boundry as $K$ gets larger?"
   ]
  },
  {
   "cell_type": "code",
   "execution_count": 8,
   "metadata": {},
   "outputs": [
    {
     "data": {
      "text/plain": [
       "Text(0.5, 1.0, '2-Class classification (k = 5)')"
      ]
     },
     "execution_count": 8,
     "metadata": {},
     "output_type": "execute_result"
    },
    {
     "data": {
      "image/png": "[encoded data removed]",
      "text/plain": [
       "<Figure size 432x288 with 1 Axes>"
      ]
     },
     "metadata": {
      "needs_background": "light"
     },
     "output_type": "display_data"
    }
   ],
   "source": [
    "from matplotlib.colors import ListedColormap\n",
    "\n",
    "k = 5\n",
    "\n",
    "#Setup a knn classifier with k neighbors\n",
    "knn = KNeighborsClassifier(n_neighbors=k)\n",
    "\n",
    "#Fit the model\n",
    "knn.fit(low_dim[['Glucose', 'BloodPressure']], labels)\n",
    "\n",
    "knn.score(low_dim[['Glucose', 'BloodPressure']], labels)\n",
    "\n",
    "cmap_light = ListedColormap(['#FFAAAA', '#AAFFAA'])\n",
    "\n",
    "cmap_bold = ListedColormap(['#FF0000', '#00FF00'])\n",
    "\n",
    "X = low_dim[['Glucose', 'BloodPressure']].to_numpy()\n",
    "y = labels\n",
    "\n",
    "h = 10  # step size in the mesh\n",
    "\n",
    "# Plot the decision boundary. For that, we will assign a color to each\n",
    "# point in the mesh [x_min, x_max]x[y_min, y_max].\n",
    "x_min, x_max = X[:, 0].min() - 1, X[:, 0].max() + 1\n",
    "y_min, y_max = X[:, 1].min() - 1, X[:, 1].max() + 1\n",
    "\n",
    "xx, yy = np.meshgrid(np.arange(x_min, x_max, h),\n",
    "                     np.arange(y_min, y_max, h))\n",
    "\n",
    "Z = knn.predict(np.c_[xx.ravel(), yy.ravel()])\n",
    "\n",
    "# Put the result into a color plot\n",
    "Z = Z.reshape(xx.shape)\n",
    "plt.figure()\n",
    "plt.pcolormesh(xx, yy, Z, cmap=cmap_bold)\n",
    "\n",
    "# Plot also the training points\n",
    "plt.scatter(X[:, 0], X[:, 1], c=y, cmap=cmap_light)\n",
    "plt.xlim(xx.min(), xx.max())\n",
    "plt.ylim(yy.min(), yy.max())\n",
    "plt.title(\"2-Class classification (k = %i)\" % (k))\n"
   ]
  },
  {
   "cell_type": "markdown",
   "metadata": {},
   "source": [
    "### Hello, eight dimensions!\n",
    "\n",
    "Last week, we spent a lot of time building up intuition for the distances between 2-D data points in space. This week, we learned the definition of [Euclidean distance](https://en.wikipedia.org/wiki/Euclidean_distance), which formalizes our intuitions about straight-line distance in 2D in a way that extends to an arbirary number of dimensions. Notice that we can use the same KNN algorithm we used in 2D to reason about 8-dimensional data. "
   ]
  },
  {
   "cell_type": "code",
   "execution_count": 14,
   "metadata": {},
   "outputs": [
    {
     "name": "stdout",
     "output_type": "stream",
     "text": [
      "(768, 8)\n"
     ]
    },
    {
     "data": {
      "text/plain": [
       "0.859375"
      ]
     },
     "execution_count": 14,
     "metadata": {},
     "output_type": "execute_result"
    }
   ],
   "source": [
    "features = df.drop(\"Outcome\", axis=1)\n",
    "\n",
    "print(features.shape)  # we have 8-D data\n",
    "\n",
    "#Setup a knn classifier with k neighbors\n",
    "knn = KNeighborsClassifier(n_neighbors=3)\n",
    "\n",
    "#Fit the model\n",
    "knn.fit(features, labels)\n",
    "\n",
    "knn.score(features, labels)"
   ]
  }
 ],
 "metadata": {
  "kernelspec": {
   "display_name": "Python 3",
   "language": "python",
   "name": "python3"
  },
  "language_info": {
   "codemirror_mode": {
    "name": "ipython",
    "version": 3
   },
   "file_extension": ".py",
   "mimetype": "text/x-python",
   "name": "python",
   "nbconvert_exporter": "python",
   "pygments_lexer": "ipython3",
   "version": "3.8.8"
  }
 },
 "nbformat": 4,
 "nbformat_minor": 2
}
