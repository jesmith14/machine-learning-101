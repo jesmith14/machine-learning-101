{
 "cells": [
  {
   "cell_type": "markdown",
   "id": "23609da1",
   "metadata": {},
   "source": [
    "## Step 1: Get all words in a single text file"
   ]
  },
  {
   "cell_type": "code",
   "execution_count": null,
   "id": "ec733622",
   "metadata": {},
   "outputs": [],
   "source": [
    "with open(\"k_core_ratings_{0}.txt\".format(i))## Step 1: Get all words in a single text file\n",
    "## Step 2: Get all words into a list in orderormat(i)) as fp:\n",
    "        for line in fp:"
   ]
  },
  {
   "cell_type": "code",
   "execution_count": 18,
   "id": "6e94db8b",
   "metadata": {},
   "outputs": [
    {
     "name": "stdout",
     "output_type": "stream",
     "text": [
      "Number of words total:  191741\n"
     ]
    }
   ],
   "source": [
    "import docx2txt\n",
    "months = [1,2,3,4,5,6,7,8,9,10,11,12]\n",
    "days = [1,2,3,4,5,6,7,8,9,10,11,12,13,14,15,16,17,18,19,20,21,22,23,24,25,26,27,28,29,30,31]\n",
    "years= [16,17,18,19,20,21]\n",
    "word_arr = []\n",
    "for m in months:\n",
    "    for d in days:\n",
    "        for y in years:\n",
    "            try:\n",
    "                my_text = docx2txt.process(\"data_files/{0}_{1}_{2}.docx\".format(m,d,y))\n",
    "                for word in my_text.split():\n",
    "                    word_arr.append(word)\n",
    "            except:\n",
    "                continue\n",
    "                \n",
    "print(\"Number of words total: \", len(word_arr))"
   ]
  },
  {
   "cell_type": "markdown",
   "id": "915fed7b",
   "metadata": {},
   "source": [
    "## Step 2: Get all words into a list in order"
   ]
  },
  {
   "cell_type": "code",
   "execution_count": null,
   "id": "9639a6b7",
   "metadata": {},
   "outputs": [],
   "source": []
  }
 ],
 "metadata": {
  "kernelspec": {
   "display_name": "Python 3",
   "language": "python",
   "name": "python3"
  },
  "language_info": {
   "codemirror_mode": {
    "name": "ipython",
    "version": 3
   },
   "file_extension": ".py",
   "mimetype": "text/x-python",
   "name": "python",
   "nbconvert_exporter": "python",
   "pygments_lexer": "ipython3",
   "version": "3.8.8"
  }
 },
 "nbformat": 4,
 "nbformat_minor": 5
}
