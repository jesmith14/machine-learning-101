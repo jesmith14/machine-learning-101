{
 "cells": [
  {
   "cell_type": "code",
   "execution_count": 14,
   "metadata": {},
   "outputs": [],
   "source": [
    "import csv\n",
    "\n",
    "all_results = []\n",
    "\n",
    "with open(\"merged.csv\", \"r\") as inf:\n",
    "    results = csv.reader(inf)\n",
    "    next(results)\n",
    "    for r in results:\n",
    "        annotator, annotation, review, _ = r\n",
    "        all_results.append({\n",
    "            \"annotator\": annotator, \n",
    "            \"annotation\": annotation, \n",
    "            \"review\": review})\n",
    "\n",
    "# annotators = set()\n",
    "\n",
    "from collections import defaultdict\n",
    "review2judgements = defaultdict(list)\n",
    "\n",
    "for result in all_results:\n",
    "    review2judgements[result[\"review\"]].append({\"annotator\": result[\"annotator\"], \"annotation\": result[\"annotation\"]})"
   ]
  },
  {
   "cell_type": "code",
   "execution_count": 15,
   "metadata": {},
   "outputs": [
    {
     "data": {
      "text/html": [
       "<div>\n",
       "<style scoped>\n",
       "    .dataframe tbody tr th:only-of-type {\n",
       "        vertical-align: middle;\n",
       "    }\n",
       "\n",
       "    .dataframe tbody tr th {\n",
       "        vertical-align: top;\n",
       "    }\n",
       "\n",
       "    .dataframe thead th {\n",
       "        text-align: right;\n",
       "    }\n",
       "</style>\n",
       "<table border=\"1\" class=\"dataframe\">\n",
       "  <thead>\n",
       "    <tr style=\"text-align: right;\">\n",
       "      <th></th>\n",
       "      <th>annotator</th>\n",
       "      <th>annotation</th>\n",
       "      <th>review</th>\n",
       "    </tr>\n",
       "  </thead>\n",
       "  <tbody>\n",
       "    <tr>\n",
       "      <th>0</th>\n",
       "      <td>1</td>\n",
       "      <td>Negative</td>\n",
       "      <td>After an unpleasant experience at Lotus Grocer...</td>\n",
       "    </tr>\n",
       "    <tr>\n",
       "      <th>1</th>\n",
       "      <td>2</td>\n",
       "      <td>Negative</td>\n",
       "      <td>I recently moved to this area and decided to s...</td>\n",
       "    </tr>\n",
       "    <tr>\n",
       "      <th>2</th>\n",
       "      <td>3</td>\n",
       "      <td>Negative</td>\n",
       "      <td>Decent inexpensive Mexican restaurant. Not par...</td>\n",
       "    </tr>\n",
       "    <tr>\n",
       "      <th>3</th>\n",
       "      <td>4</td>\n",
       "      <td>Positive</td>\n",
       "      <td>Taking a girl here will solidify the win. Trus...</td>\n",
       "    </tr>\n",
       "    <tr>\n",
       "      <th>4</th>\n",
       "      <td>5</td>\n",
       "      <td>Positive</td>\n",
       "      <td>Awesome I have to say. My husband and I saw th...</td>\n",
       "    </tr>\n",
       "    <tr>\n",
       "      <th>...</th>\n",
       "      <td>...</td>\n",
       "      <td>...</td>\n",
       "      <td>...</td>\n",
       "    </tr>\n",
       "    <tr>\n",
       "      <th>520</th>\n",
       "      <td>21</td>\n",
       "      <td>Positive</td>\n",
       "      <td>I was all excited to go to this place and then...</td>\n",
       "    </tr>\n",
       "    <tr>\n",
       "      <th>521</th>\n",
       "      <td>22</td>\n",
       "      <td>Positive</td>\n",
       "      <td>Taco Bell... I favor the #7 and #8. Sometimes ...</td>\n",
       "    </tr>\n",
       "    <tr>\n",
       "      <th>522</th>\n",
       "      <td>23</td>\n",
       "      <td>Positive</td>\n",
       "      <td>Just moved here from vermont looking for great...</td>\n",
       "    </tr>\n",
       "    <tr>\n",
       "      <th>523</th>\n",
       "      <td>24</td>\n",
       "      <td>Negative</td>\n",
       "      <td>4 bottles between 5 people...I asked for water...</td>\n",
       "    </tr>\n",
       "    <tr>\n",
       "      <th>524</th>\n",
       "      <td>25</td>\n",
       "      <td>Negative</td>\n",
       "      <td>so torn on this review - have to say, have bee...</td>\n",
       "    </tr>\n",
       "  </tbody>\n",
       "</table>\n",
       "<p>525 rows × 3 columns</p>\n",
       "</div>"
      ],
      "text/plain": [
       "    annotator annotation                                             review\n",
       "0           1   Negative  After an unpleasant experience at Lotus Grocer...\n",
       "1           2   Negative  I recently moved to this area and decided to s...\n",
       "2           3   Negative  Decent inexpensive Mexican restaurant. Not par...\n",
       "3           4   Positive  Taking a girl here will solidify the win. Trus...\n",
       "4           5   Positive  Awesome I have to say. My husband and I saw th...\n",
       "..        ...        ...                                                ...\n",
       "520        21   Positive  I was all excited to go to this place and then...\n",
       "521        22   Positive  Taco Bell... I favor the #7 and #8. Sometimes ...\n",
       "522        23   Positive  Just moved here from vermont looking for great...\n",
       "523        24   Negative  4 bottles between 5 people...I asked for water...\n",
       "524        25   Negative  so torn on this review - have to say, have bee...\n",
       "\n",
       "[525 rows x 3 columns]"
      ]
     },
     "execution_count": 15,
     "metadata": {},
     "output_type": "execute_result"
    }
   ],
   "source": [
    "import pandas as pd\n",
    "df = pd.DataFrame(all_results)\n",
    "df"
   ]
  },
  {
   "cell_type": "markdown",
   "metadata": {},
   "source": [
    "### How many annotators are there? \n",
    "\n",
    "[Your answer here]\n",
    "\n",
    "### How many data points are there? \n",
    "\n",
    "[Your answer here]\n",
    "\n",
    "### Which review seems to be least controverial? Most controversial?\n",
    "\n",
    "[Your answer here]"
   ]
  },
  {
   "cell_type": "code",
   "execution_count": 2,
   "metadata": {},
   "outputs": [],
   "source": [
    "def pairwise_agreement(results):\n",
    "    '''\n",
    "    Compute the pairwise agreement between raters for the input results\n",
    "    \n",
    "    To compute pairwise agreement compare judgements from all pairs of annotators for a given item\n",
    "    Return the fraction of pairs of annotators who agree\n",
    "    '''\n",
    "    total_judgements = {}\n",
    "    for result in results:\n",
    "        for other_result in results:\n",
    "            if result[\"annotator\"] != other_result[\"annotator\"]:\n",
    "                pair = [result[\"annotator\"], other_result[\"annotator\"]]\n",
    "                pair.sort()\n",
    "                pair = \"-\".join(pair)\n",
    "                total_judgements[pair] = (result[\"annotation\"], other_result[\"annotation\"])\n",
    "    out = total_judgements.values()\n",
    "    agrees = 0\n",
    "    for pair in out:\n",
    "        judgement1, judgement2 = pair \n",
    "        if judgement1 == judgement2:\n",
    "            agrees += 1\n",
    "    return agrees/len(out)\n",
    "\n",
    "review4 = {\"1\": 1, \"2\": 0, \"3\": 1}\n",
    "\n",
    "# do 1 and 2 agree ==> No\n",
    "\n",
    "# do 1 and 3 agree ==> Yes\n",
    "\n",
    "# do 2 and 3 agree ==> No\n",
    "\n",
    "# agreement rate = 1/3 = #agreements / #pairs"
   ]
  },
  {
   "cell_type": "markdown",
   "metadata": {},
   "source": [
    "### Per-item analysis\n",
    "\n",
    "- Which review has the highest and lowest pairwise agreement rate? Does this make sense?\n",
    "\n",
    "[Type your answer here]"
   ]
  },
  {
   "cell_type": "markdown",
   "metadata": {},
   "source": [
    "### Random agreement rate\n",
    "\n",
    "If two reviewers answered randomly (meaning just picked random annotations) how often would they agree just by chance?\n",
    "\n",
    "[Type your answer here, and explain your reasoning]"
   ]
  },
  {
   "cell_type": "markdown",
   "metadata": {},
   "source": [
    "$\\bar{P}_e$ = .5 = \"change agreement rate\""
   ]
  },
  {
   "cell_type": "markdown",
   "metadata": {},
   "source": [
    "### Fleiss Kappa\n",
    "\n",
    "[Fleiss kappa](https://en.wikipedia.org/wiki/Fleiss%27_kappa) measures the exent to which pairs of reviewers agree, as compared to how much they would agree by chance. \n",
    "\n",
    "- $\\bar{P}_e$ is the rate at which reviewers agree by chance \n",
    "- $\\bar{P}$ is the pairwise agreement rate across all items the dataset\n",
    "    - note: the Wikipedia article uses a slightly different definition of $\\bar{P}$, because it assumes all reviewers review all items, which is not true in our case\n",
    "\n",
    "\n",
    "$\\kappa = \\frac{\\bar{P} - \\bar{P}_e}{1-\\bar{P}_e}$"
   ]
  },
  {
   "cell_type": "markdown",
   "metadata": {},
   "source": [
    "- What is the highest possible value of Fleiss Kappa? What is the lowest?\n",
    "\n",
    "[Type your answer here]"
   ]
  },
  {
   "cell_type": "markdown",
   "metadata": {},
   "source": [
    "- What is the highest possible value of Fleiss Kappa? What is the lowest?\n",
    "\n",
    "[Type your answer here]"
   ]
  },
  {
   "cell_type": "markdown",
   "metadata": {},
   "source": [
    "- What does the denominator mean? If $\\bar{P}_e$ is high, then is the denominator high or low?"
   ]
  },
  {
   "cell_type": "markdown",
   "metadata": {},
   "source": [
    "- If $\\bar{P}$ is high and $\\bar{P_e}$ is high, do you think the task is well-defined?\n",
    "\n",
    "[Type your answer here]"
   ]
  },
  {
   "cell_type": "markdown",
   "metadata": {},
   "source": [
    "- If $\\bar{P}$ is high and $\\bar{P_e}$ is high, do you think the task is well-defined\n",
    "\n",
    "[Type your answer here]"
   ]
  },
  {
   "cell_type": "markdown",
   "metadata": {},
   "source": [
    "- If $\\bar{P}$ is high and $\\bar{P_e}$ is low, do you think the task is well-defined?\n",
    "\n",
    "[Type your answer here]"
   ]
  },
  {
   "cell_type": "markdown",
   "metadata": {},
   "source": [
    "- What do you think the Fleiss Kappa will be for the Yelp data set? Do you think it will be higher or lower than for the emotions dataset?"
   ]
  },
  {
   "cell_type": "code",
   "execution_count": null,
   "metadata": {},
   "outputs": [],
   "source": [
    "# Compute Fleiss Kappa for the dataset\n",
    "\n",
    "def kappa(Pe, Pbar):\n",
    "    return 0\n",
    "\n",
    "# Fill out this function "
   ]
  }
 ],
 "metadata": {
  "kernelspec": {
   "display_name": "Python 3",
   "language": "python",
   "name": "python3"
  },
  "language_info": {
   "codemirror_mode": {
    "name": "ipython",
    "version": 3
   },
   "file_extension": ".py",
   "mimetype": "text/x-python",
   "name": "python",
   "nbconvert_exporter": "python",
   "pygments_lexer": "ipython3",
   "version": "3.8.8"
  }
 },
 "nbformat": 4,
 "nbformat_minor": 4
}
