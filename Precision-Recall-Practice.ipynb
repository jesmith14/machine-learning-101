{
 "cells": [
  {
   "cell_type": "code",
   "execution_count": 1,
   "id": "c161315b-20ee-416e-9d4f-56f9b7d7844b",
   "metadata": {},
   "outputs": [],
   "source": [
    "import pandas as pd\n",
    "import numpy as np"
   ]
  },
  {
   "cell_type": "code",
   "execution_count": 17,
   "id": "2c032818-96ad-467d-ad81-18d49e8fcc05",
   "metadata": {},
   "outputs": [
    {
     "data": {
      "text/html": [
       "<div>\n",
       "<style scoped>\n",
       "    .dataframe tbody tr th:only-of-type {\n",
       "        vertical-align: middle;\n",
       "    }\n",
       "\n",
       "    .dataframe tbody tr th {\n",
       "        vertical-align: top;\n",
       "    }\n",
       "\n",
       "    .dataframe thead th {\n",
       "        text-align: right;\n",
       "    }\n",
       "</style>\n",
       "<table border=\"1\" class=\"dataframe\">\n",
       "  <thead>\n",
       "    <tr style=\"text-align: right;\">\n",
       "      <th></th>\n",
       "      <th>Image Number</th>\n",
       "      <th>Predicted</th>\n",
       "      <th>Annotation</th>\n",
       "    </tr>\n",
       "  </thead>\n",
       "  <tbody>\n",
       "    <tr>\n",
       "      <th>0</th>\n",
       "      <td>1</td>\n",
       "      <td>harmful</td>\n",
       "      <td>harmful</td>\n",
       "    </tr>\n",
       "    <tr>\n",
       "      <th>1</th>\n",
       "      <td>2</td>\n",
       "      <td>harmful</td>\n",
       "      <td>not harmful</td>\n",
       "    </tr>\n",
       "    <tr>\n",
       "      <th>2</th>\n",
       "      <td>3</td>\n",
       "      <td>not harmful</td>\n",
       "      <td>harmful</td>\n",
       "    </tr>\n",
       "    <tr>\n",
       "      <th>3</th>\n",
       "      <td>4</td>\n",
       "      <td>not harmful</td>\n",
       "      <td>harmful</td>\n",
       "    </tr>\n",
       "    <tr>\n",
       "      <th>4</th>\n",
       "      <td>5</td>\n",
       "      <td>not harmful</td>\n",
       "      <td>not harmful</td>\n",
       "    </tr>\n",
       "  </tbody>\n",
       "</table>\n",
       "</div>"
      ],
      "text/plain": [
       "   Image Number    Predicted   Annotation\n",
       "0             1      harmful      harmful\n",
       "1             2      harmful  not harmful\n",
       "2             3  not harmful      harmful\n",
       "3             4  not harmful      harmful\n",
       "4             5  not harmful  not harmful"
      ]
     },
     "execution_count": 17,
     "metadata": {},
     "output_type": "execute_result"
    }
   ],
   "source": [
    "data = [[1, \"harmful\", \"harmful\"], [2, \"harmful\", \"not harmful\"], [3, \"not harmful\", \"harmful\"], [4, \"not harmful\", \"harmful\"], [5, \"not harmful\", \"not harmful\"]]\n",
    "\n",
    "# Create the pandas DataFrame\n",
    "harm_df = pd.DataFrame(data, columns=[\"Image Number\", \"Predicted\", \"Annotation\"])\n",
    "\n",
    "harm_df"
   ]
  },
  {
   "cell_type": "code",
   "execution_count": 47,
   "id": "17af74a0-f340-471e-b576-41d4bb1d104b",
   "metadata": {},
   "outputs": [
    {
     "name": "stdout",
     "output_type": "stream",
     "text": [
      "TP:  1 TN:  1 FP:  1 FN:  2\n"
     ]
    }
   ],
   "source": [
    "TP = 0\n",
    "TN = 0\n",
    "FP = 0\n",
    "FN = 0\n",
    "for index,row in harm_df.iterrows():\n",
    "    if row[\"Predicted\"] == \"harmful\" and row[\"Annotation\"] == \"harmful\":\n",
    "        TP+=1\n",
    "    elif row[\"Predicted\"] == \"not harmful\" and row[\"Annotation\"] == \"not harmful\":\n",
    "        TN+=1\n",
    "    elif row[\"Predicted\"] == \"harmful\" and row[\"Annotation\"] == \"not harmful\":\n",
    "        FP+=1\n",
    "    elif row[\"Predicted\"] == \"not harmful\" and row[\"Annotation\"] == \"harmful\":\n",
    "        FN+=1\n",
    "\n",
    "print(\"TP: \", TP, \"TN: \", TN, \"FP: \", FP, \"FN: \", FN)"
   ]
  },
  {
   "cell_type": "code",
   "execution_count": 49,
   "id": "8d041505-f08c-4b53-aa1f-5d34df46f5dc",
   "metadata": {},
   "outputs": [
    {
     "name": "stdout",
     "output_type": "stream",
     "text": [
      "Precision:  0.5\n",
      "Recall:  0.3333333333333333\n",
      "F1:  0.4\n"
     ]
    }
   ],
   "source": [
    "precision = TP/(TP+FP)\n",
    "recall = TP/(TP+FN)\n",
    "F1 = 2*((precision*recall)/(precision+recall))\n",
    "print(\"Precision: \", precision)\n",
    "print(\"Recall: \", recall)\n",
    "print(\"F1: \", F1)"
   ]
  },
  {
   "cell_type": "code",
   "execution_count": null,
   "id": "fdfb70d3-a4d4-4b35-8afe-3419452ef8a2",
   "metadata": {},
   "outputs": [],
   "source": []
  }
 ],
 "metadata": {
  "kernelspec": {
   "display_name": "Python 3 (ipykernel)",
   "language": "python",
   "name": "python3"
  },
  "language_info": {
   "codemirror_mode": {
    "name": "ipython",
    "version": 3
   },
   "file_extension": ".py",
   "mimetype": "text/x-python",
   "name": "python",
   "nbconvert_exporter": "python",
   "pygments_lexer": "ipython3",
   "version": "3.12.4"
  }
 },
 "nbformat": 4,
 "nbformat_minor": 5
}
