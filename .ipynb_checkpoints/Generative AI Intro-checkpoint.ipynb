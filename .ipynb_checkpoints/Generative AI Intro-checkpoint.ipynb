{
 "cells": [
  {
   "cell_type": "markdown",
   "id": "ca21a5b2-bcf1-467d-a427-ef98241f807a",
   "metadata": {},
   "source": [
    "# Generative AI Notes:\n",
    "- ChatGPT (Open AI), Bard (Google), Llama 2 (Meta)\n",
    "\n",
    "# Deep Learning\n",
    "1. Artificial Neural Network (ANN)\n",
    "   - Input layer --> Hidden Layer(s), these are hyper parameters, you can have as many of these as you want --> Output layer\n",
    "3. Convolutional Neural Network (CNN)\n",
    "   - We use this for image or video related data (grid data)\n",
    "   - Convolution step is the feature extraction and you do pulling, and then you apply the fully connected ANN layer\n",
    "5. Recurrent Neural Network (RNN)\n",
    "   - Use this for structured data, like numeric / categorical columns. Then we decide if it will be a classification problem or a regression problem\n",
    "   - Using this for sequence related data\n",
    "   - input --> hidden layer (includes feedback loop) --> output\n",
    "   - LLMs are connected to RNNs\n",
    "7. Reinforcement learning\n",
    "8. Generative Adversarial Network (GAN)\n",
    "   - neural network for generating our data used for gen AI\n",
    "   - architecture includes sending generated image/text and real image/text into a \"discriminator\" which is a neural network"
   ]
  },
  {
   "cell_type": "code",
   "execution_count": null,
   "id": "4b2eb174-4c41-4cb9-97b0-4ed595a064aa",
   "metadata": {},
   "outputs": [],
   "source": []
  }
 ],
 "metadata": {
  "kernelspec": {
   "display_name": "Python 3 (ipykernel)",
   "language": "python",
   "name": "python3"
  },
  "language_info": {
   "codemirror_mode": {
    "name": "ipython",
    "version": 3
   },
   "file_extension": ".py",
   "mimetype": "text/x-python",
   "name": "python",
   "nbconvert_exporter": "python",
   "pygments_lexer": "ipython3",
   "version": "3.12.4"
  }
 },
 "nbformat": 4,
 "nbformat_minor": 5
}
